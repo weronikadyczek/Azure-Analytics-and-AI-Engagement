{
 "cells": [
  {
   "cell_type": "markdown",
   "id": "1c6729a1-10e9-4921-a386-31ff44b6e3f8",
   "metadata": {
    "jp-MarkdownHeadingCollapsed": true,
    "microsoft": {
     "language": "python",
     "language_group": "synapse_pyspark"
    },
    "nteract": {
     "transient": {
      "deleting": false
     }
    }
   },
   "source": [
    "### Install the Digital Twin Builder Sample Package"
   ]
  },
  {
   "cell_type": "code",
   "execution_count": null,
   "id": "4702ed7e-b2b6-4556-939e-a888b2748f65",
   "metadata": {
    "collapsed": false,
    "microsoft": {
     "language": "python",
     "language_group": "synapse_pyspark"
    }
   },
   "outputs": [],
   "source": [
    "df = spark.sql(\"SELECT * FROM ZavaLakehouse.what_if_analysis_results LIMIT 1000\")\n",
    "display(df)"
   ]
  },
  {
   "cell_type": "code",
   "execution_count": null,
   "id": "400374ca-5d0a-41af-8be1-dbd2809d646e",
   "metadata": {
    "jupyter": {
     "outputs_hidden": true
    },
    "microsoft": {
     "language": "python",
     "language_group": "synapse_pyspark"
    }
   },
   "outputs": [],
   "source": [
    "%pip install /lakehouse/default/Files/dtb_samples-0.2-py3-none-any.whl --quiet"
   ]
  },
  {
   "cell_type": "markdown",
   "id": "7b4a2f4d-3472-4f9d-8ed5-7af8919f8d78",
   "metadata": {
    "jp-MarkdownHeadingCollapsed": true,
    "microsoft": {
     "language": "python",
     "language_group": "synapse_pyspark"
    },
    "nteract": {
     "transient": {
      "deleting": false
     }
    }
   },
   "source": [
    "### Load Digital Twin"
   ]
  },
  {
   "cell_type": "code",
   "execution_count": null,
   "id": "3a817483-bdda-498d-9bee-4ba68e8806d5",
   "metadata": {
    "jupyter": {
     "outputs_hidden": true,
     "source_hidden": true
    },
    "microsoft": {
     "language": "python",
     "language_group": "synapse_pyspark"
    }
   },
   "outputs": [],
   "source": [
    "import com.microsoft.spark.fabric\n",
    "from com.microsoft.spark.fabric.Constants import Constants\n",
    "\n",
    "from dtb.client import DtbClient\n",
    "from dtb.core import EntityRelationship, EntityType, EntityTypeProperty\n",
    "from dtb.utilities import DtbFabricHelper, DtbGraph\n",
    "\n",
    "dtb_item_name = \"Zava_DigitalTwin\" \n",
    "client = DtbClient(dtb_item_name)\n",
    "\n",
    "df_reader = spark.read.option(Constants.DatabaseName, client.get_database_name())\n",
    "\n",
    "fabric_helper = DtbFabricHelper(client)\n",
    "dtb_instances = fabric_helper.get_data(spark,df_reader,include_instances=True,max_instances_per_entity=250, max_timeseries_per_instance=10)\n",
    "\n",
    "dtb_graph_helper = DtbGraph(dtb_instances)\n",
    "dtb_graph = dtb_graph_helper.generate_semantic_graph()"
   ]
  },
  {
   "cell_type": "markdown",
   "id": "80f0d617-f9a2-440d-9e56-9d4550ba0f93",
   "metadata": {
    "jp-MarkdownHeadingCollapsed": true,
    "microsoft": {
     "language": "python",
     "language_group": "synapse_pyspark"
    },
    "nteract": {
     "transient": {
      "deleting": false
     }
    }
   },
   "source": [
    "### Generate Machine Learning Features from Digital Twin"
   ]
  },
  {
   "cell_type": "code",
   "execution_count": null,
   "id": "016b48b3-88d0-4b68-992a-91771e3e9a97",
   "metadata": {
    "jupyter": {
     "source_hidden": false
    },
    "microsoft": {
     "language": "python",
     "language_group": "synapse_pyspark"
    }
   },
   "outputs": [],
   "source": [
    "from networkx import MultiDiGraph\n",
    "import networkx as nx\n",
    "from pyvis.network import Network\n",
    "from IPython.display import HTML, display\n",
    "import numpy as np\n",
    "import pandas as pd\n",
    "import scipy.stats as stats\n",
    "import matplotlib.pyplot as plt\n",
    "import seaborn as sns\n",
    "from sklearn.linear_model import LinearRegression\n",
    "from sklearn.ensemble import RandomForestRegressor\n",
    "from sklearn.model_selection import train_test_split\n",
    "\n",
    "from dtb.utilities import DtbMLHelper\n",
    "\n",
    "entity =  \"PerformanceMetric\"\n",
    "entity_properties = [\"metricId\",\"avgHumidity\",\"comfortScore\",\"peakPressure\",\"tempDelta\"]\n",
    "linked_entities = [\"PerformanceMetric\",\"Product\",\"Material\",\"Environment\",\"ActivityType\", \"ActivitySession\"]\n",
    "\n",
    "ml_helper = DtbMLHelper()\n",
    "\n",
    "ml_feature_df = ml_helper.get_zava_ml_features(dtb_graph_helper, dtb_graph, entity, entity_properties,linked_entities)\n",
    "ml_feature_df.head()"
   ]
  },
  {
   "cell_type": "markdown",
   "id": "5645c9e1-3a7d-4345-bd28-3da713006c30",
   "metadata": {
    "microsoft": {
     "language": "python",
     "language_group": "synapse_pyspark"
    },
    "nteract": {
     "transient": {
      "deleting": false
     }
    }
   },
   "source": [
    "### Run What-if Analysis\n",
    "\n",
    "###### For example, we can **simulate** how changes in material properties like **increased elasticity** or **reduced thermal conductivity**, **affect the comfort score**, especially **under varying ambient temperatures**."
   ]
  },
  {
   "cell_type": "code",
   "execution_count": 5,
   "id": "96e7dd21-b0cc-4fec-8451-f272d79f6e99",
   "metadata": {
    "jupyter": {
     "outputs_hidden": false,
     "source_hidden": false
    },
    "microsoft": {
     "language": "python",
     "language_group": "synapse_pyspark"
    }
   },
   "outputs": [
    {
     "data": {
      "application/vnd.livy.statement-meta+json": {
       "execution_finish_time": "2025-06-23T02:46:34.0218805Z",
       "execution_start_time": "2025-06-23T02:45:47.6123592Z",
       "livy_statement_state": "available",
       "normalized_state": "finished",
       "parent_msg_id": "cba5a798-0816-493c-9d37-1544f180c346",
       "queued_time": "2025-06-23T02:44:01.6029925Z",
       "session_id": "bd22830c-cc3e-4018-8297-4a24c6029c56",
       "session_start_time": null,
       "spark_pool": null,
       "state": "finished",
       "statement_id": 11,
       "statement_ids": [
        11
       ]
      },
      "text/plain": [
       "StatementMeta(, bd22830c-cc3e-4018-8297-4a24c6029c56, 11, Finished, Available, Finished)"
      ]
     },
     "metadata": {},
     "output_type": "display_data"
    },
    {
     "data": {
      "application/vnd.mlflow.run-widget+json": {
       "data": {
        "metrics": {
         "training_mean_absolute_error": 0.6314668323223687,
         "training_mean_squared_error": 1.0545501431180027,
         "training_r2_score": 0.4250730318236333,
         "training_root_mean_squared_error": 1.0269129189556447,
         "training_score": 0.4250730318236333
        },
        "params": {
         "bootstrap": "True",
         "ccp_alpha": "0.0",
         "criterion": "squared_error",
         "max_depth": "None",
         "max_features": "1.0",
         "max_leaf_nodes": "None",
         "max_samples": "None",
         "min_impurity_decrease": "0.0",
         "min_samples_leaf": "1",
         "min_samples_split": "2",
         "min_weight_fraction_leaf": "0.0",
         "n_estimators": "100",
         "n_jobs": "None",
         "oob_score": "False",
         "random_state": "42",
         "verbose": "0",
         "warm_start": "False"
        },
        "tags": {
         "estimator_class": "sklearn.ensemble._forest.RandomForestRegressor",
         "estimator_name": "RandomForestRegressor",
         "mlflow.autologging": "sklearn",
         "mlflow.rootRunId": "7a362b34-03fb-40c8-9825-04e797ca2e51",
         "mlflow.runName": "busy_bread_vdf4t7lg",
         "mlflow.user": "4b3a56ea-6f42-450e-b7c3-fb2932c7ac32",
         "synapseml.experiment.artifactId": "ea4c984c-b7b2-4e0f-8053-ef20321f36c2",
         "synapseml.experimentName": "Zava_DigitalTwin_WhatIf_Analysis",
         "synapseml.livy.id": "bd22830c-cc3e-4018-8297-4a24c6029c56",
         "synapseml.notebook.artifactId": "cd213dc4-bd87-4149-9945-2be9ad29ef79",
         "synapseml.run.artifactJobId": "9f4bd042-4807-43db-896e-08d7405f034f",
         "synapseml.user.id": "289ab36e-62b3-4eec-b3c0-3300f687bf1f",
         "synapseml.user.name": "Jomit Vaghela"
        }
       },
       "info": {
        "artifact_uri": "sds://onelakenorthcentralus.pbidedicated.windows.net/96d566eb-4113-4218-aebe-dad045fab59a/ea4c984c-b7b2-4e0f-8053-ef20321f36c2/7a362b34-03fb-40c8-9825-04e797ca2e51/artifacts",
        "end_time": 1750646764,
        "experiment_id": "df880e33-5c60-4567-abe1-59f0cc8d8c3c",
        "lifecycle_stage": "active",
        "run_id": "7a362b34-03fb-40c8-9825-04e797ca2e51",
        "run_name": "busy_bread_vdf4t7lg",
        "run_uuid": "7a362b34-03fb-40c8-9825-04e797ca2e51",
        "start_time": 1750646751,
        "status": "FINISHED",
        "user_id": "7ebfac85-3ebb-440f-a743-e52052051f6a"
       },
       "inputs": {
        "dataset_inputs": []
       }
      }
     },
     "metadata": {},
     "output_type": "display_data"
    }
   ],
   "source": [
    "feature_list = [\"thermalConductivity\", \"elasticity\", \"ambientTemperature\"]\n",
    "output_list = [\"comfortScore\", \"peakPressure\", \"avgHumidity\", \"tempDelta\"]\n",
    "\n",
    "features = ml_helper.get_np_array(ml_feature_df,feature_list)\n",
    "output_labels = ml_helper.get_np_array(ml_feature_df,[output_list[0]])\n",
    "\n",
    "sim_data = ml_helper.run_zava_whatif_analysis(ml_feature_df,features,output_labels)"
   ]
  },
  {
   "cell_type": "markdown",
   "id": "0df1aea8-4a3f-4c1a-b8ce-3ab947dc47aa",
   "metadata": {
    "microsoft": {
     "language": "python",
     "language_group": "synapse_pyspark"
    },
    "nteract": {
     "transient": {
      "deleting": false
     }
    }
   },
   "source": [
    "### Visualize What-if Analysis Results"
   ]
  },
  {
   "cell_type": "code",
   "execution_count": 6,
   "id": "91eb5479-039b-4e39-a614-79b805b56e8e",
   "metadata": {
    "microsoft": {
     "language": "python",
     "language_group": "synapse_pyspark"
    }
   },
   "outputs": [
    {
     "data": {
      "application/vnd.livy.statement-meta+json": {
       "execution_finish_time": "2025-06-23T02:46:35.5665877Z",
       "execution_start_time": "2025-06-23T02:46:34.0240313Z",
       "livy_statement_state": "available",
       "normalized_state": "finished",
       "parent_msg_id": "237ca1fc-4d35-44fd-8a72-6d2d4c68679b",
       "queued_time": "2025-06-23T02:44:01.6048328Z",
       "session_id": "bd22830c-cc3e-4018-8297-4a24c6029c56",
       "session_start_time": null,
       "spark_pool": null,
       "state": "finished",
       "statement_id": 12,
       "statement_ids": [
        12
       ]
      },
      "text/plain": [
       "StatementMeta(, bd22830c-cc3e-4018-8297-4a24c6029c56, 12, Finished, Available, Finished)"
      ]
     },
     "metadata": {},
     "output_type": "display_data"
    },
    {
     "data": {
      "image/png": "[encoded data removed]",
      "text/plain": [
       "<Figure size 1200x500 with 1 Axes>"
      ]
     },
     "metadata": {},
     "output_type": "display_data"
    }
   ],
   "source": [
    "plt.figure(figsize=(12, 5))\n",
    "sns.scatterplot(data=sim_data, x=\"thermalConductivity\", y=\"SimulatedOutput\", hue=\"elasticity\", palette=\"coolwarm\")\n",
    "plt.title(\"Simulated ComfortScore vs Thermal Conductivity\")\n",
    "plt.xlabel(\"Thermal Conductivity\")\n",
    "plt.ylabel(\"Simulated ComfortScore\")\n",
    "plt.legend(title=\"Elasticity\")\n",
    "plt.show()"
   ]
  },
  {
   "cell_type": "code",
   "execution_count": 7,
   "id": "b6a0e2b6-484c-4752-a374-b808f8b6fe19",
   "metadata": {
    "microsoft": {
     "language": "python",
     "language_group": "synapse_pyspark"
    }
   },
   "outputs": [
    {
     "data": {
      "application/vnd.livy.statement-meta+json": {
       "execution_finish_time": "2025-06-23T02:46:36.3849792Z",
       "execution_start_time": "2025-06-23T02:46:35.5690874Z",
       "livy_statement_state": "available",
       "normalized_state": "finished",
       "parent_msg_id": "74a549df-bbd4-4294-be5a-67f292f19d83",
       "queued_time": "2025-06-23T02:44:01.6066095Z",
       "session_id": "bd22830c-cc3e-4018-8297-4a24c6029c56",
       "session_start_time": null,
       "spark_pool": null,
       "state": "finished",
       "statement_id": 13,
       "statement_ids": [
        13
       ]
      },
      "text/plain": [
       "StatementMeta(, bd22830c-cc3e-4018-8297-4a24c6029c56, 13, Finished, Available, Finished)"
      ]
     },
     "metadata": {},
     "output_type": "display_data"
    },
    {
     "data": {
      "image/png": "[encoded data removed]",
      "text/plain": [
       "<Figure size 1200x500 with 1 Axes>"
      ]
     },
     "metadata": {},
     "output_type": "display_data"
    }
   ],
   "source": [
    "plt.figure(figsize=(12, 5))\n",
    "sns.scatterplot(data=sim_data, x=\"ambientTemperature\", y=\"SimulatedOutput\", hue=\"elasticity\", palette=\"coolwarm\")\n",
    "plt.title(\"Simulated ComfortScore vs Ambient Temperature\")\n",
    "plt.xlabel(\"Ambient Temperature\")\n",
    "plt.ylabel(\"Simulated ComfortScore\")\n",
    "plt.legend(title=\"Elasticity\")\n",
    "plt.show()"
   ]
  },
  {
   "cell_type": "markdown",
   "id": "a9c87c2f-bc1d-4f0b-ad7a-245c436f7cba",
   "metadata": {
    "microsoft": {
     "language": "python",
     "language_group": "synapse_pyspark"
    },
    "nteract": {
     "transient": {
      "deleting": false
     }
    }
   },
   "source": [
    "### Save What-if Analysis Results"
   ]
  },
  {
   "cell_type": "code",
   "execution_count": 16,
   "id": "d36bce45-b588-402a-bdbb-ea32c638699e",
   "metadata": {
    "jupyter": {
     "source_hidden": true
    },
    "microsoft": {
     "language": "python",
     "language_group": "synapse_pyspark"
    }
   },
   "outputs": [
    {
     "data": {
      "application/vnd.livy.statement-meta+json": {
       "execution_finish_time": "2025-06-23T02:47:01.7056184Z",
       "execution_start_time": "2025-06-23T02:46:36.3873097Z",
       "livy_statement_state": "available",
       "normalized_state": "finished",
       "parent_msg_id": "85450078-8ca9-4e0f-8d3e-d0639616b937",
       "queued_time": "2025-06-23T02:44:01.6083159Z",
       "session_id": "bd22830c-cc3e-4018-8297-4a24c6029c56",
       "session_start_time": null,
       "spark_pool": null,
       "state": "finished",
       "statement_id": 14,
       "statement_ids": [
        14
       ]
      },
      "text/plain": [
       "StatementMeta(, bd22830c-cc3e-4018-8297-4a24c6029c56, 14, Finished, Available, Finished)"
      ]
     },
     "metadata": {},
     "output_type": "display_data"
    }
   ],
   "source": [
    "sim_data = sim_data.rename(columns={'SimulatedOutput': 'comfortscore'})\n",
    "df_spark = spark.createDataFrame(sim_data)\n",
    "df_spark.write.mode(\"overwrite\").format(\"delta\").saveAsTable(\"what_if_analysis_results\")"
   ]
  }
 ],
 "metadata": {
  "a365ComputeOptions": null,
  "dependencies": {
   "lakehouse": {
    "default_lakehouse": "a3a81e51-745e-4603-ac46-43b518c1ef02",
    "default_lakehouse_name": "ZavaLakehouse",
    "default_lakehouse_workspace_id": "96d566eb-4113-4218-aebe-dad045fab59a",
    "known_lakehouses": [
     {
      "id": "a3a81e51-745e-4603-ac46-43b518c1ef02"
     }
    ]
   }
  },
  "kernel_info": {
   "jupyter_kernel_name": null,
   "name": "synapse_pyspark"
  },
  "kernelspec": {
   "display_name": "Synapse PySpark",
   "language": null,
   "name": "synapse_pyspark"
  },
  "language_info": {
   "name": "python"
  },
  "microsoft": {
   "language": "python",
   "language_group": "synapse_pyspark",
   "ms_spell_check": {
    "ms_spell_check_language": "en"
   }
  },
  "nteract": {
   "version": "nteract-front-end@1.0.0"
  },
  "sessionKeepAliveTimeout": 0,
  "spark_compute": {
   "compute_id": "/trident/default",
   "session_options": {
    "conf": {
     "spark.synapse.nbs.session.timeout": "1200000"
    }
   }
  },
  "synapse_widget": {
   "state": {
    "0705263a-2d8c-4e8a-a92a-83313bdce45e": {
     "persist_state": {
      "view": {
       "chartOptions": {
        "aggregationType": "sum",
        "binsNumber": 10,
        "categoryFieldKeys": [],
        "chartType": "bar",
        "isStacked": false,
        "seriesFieldKeys": [],
        "wordFrequency": "-1"
       },
       "tableOptions": {},
       "type": "details",
       "viewOptionsGroup": [
        {
         "tabItems": [
          {
           "key": "0",
           "name": "Table",
           "options": {},
           "type": "table"
          }
         ]
        }
       ]
      }
     },
     "sync_state": {
      "isSummary": false,
      "language": "scala",
      "table": {
       "rows": [
        {
         "0": "0.12",
         "1": "7.459999999999999",
         "2": "18.126666666666665",
         "3": "3.1037862821674866"
        },
        {
         "0": "0.17777777777777778",
         "1": "7.459999999999999",
         "2": "18.126666666666665",
         "3": "3.1037862821674866"
        },
        {
         "0": "0.23555555555555557",
         "1": "7.459999999999999",
         "2": "18.126666666666665",
         "3": "3.1037862821674866"
        },
        {
         "0": "0.29333333333333333",
         "1": "7.459999999999999",
         "2": "18.126666666666665",
         "3": "3.1037862821674866"
        },
        {
         "0": "0.35111111111111115",
         "1": "7.459999999999999",
         "2": "18.126666666666665",
         "3": "2.303386282167519"
        },
        {
         "0": "0.4088888888888889",
         "1": "7.459999999999999",
         "2": "18.126666666666665",
         "3": "2.303386282167519"
        },
        {
         "0": "0.4666666666666667",
         "1": "7.459999999999999",
         "2": "18.126666666666665",
         "3": "2.303386282167519"
        },
        {
         "0": "0.5244444444444445",
         "1": "7.459999999999999",
         "2": "18.126666666666665",
         "3": "2.303386282167519"
        },
        {
         "0": "0.5822222222222222",
         "1": "7.459999999999999",
         "2": "18.126666666666665",
         "3": "2.303386282167519"
        },
        {
         "0": "0.64",
         "1": "7.459999999999999",
         "2": "18.126666666666665",
         "3": "2.303386282167519"
        },
        {
         "0": "0.12",
         "1": "7.459999999999999",
         "2": "18.126666666666665",
         "3": "3.1037862821674866"
        },
        {
         "0": "0.17777777777777778",
         "1": "7.459999999999999",
         "2": "18.126666666666665",
         "3": "3.1037862821674866"
        },
        {
         "0": "0.23555555555555557",
         "1": "7.459999999999999",
         "2": "18.126666666666665",
         "3": "3.1037862821674866"
        },
        {
         "0": "0.29333333333333333",
         "1": "7.459999999999999",
         "2": "18.126666666666665",
         "3": "3.1037862821674866"
        },
        {
         "0": "0.35111111111111115",
         "1": "7.459999999999999",
         "2": "18.126666666666665",
         "3": "2.303386282167519"
        },
        {
         "0": "0.4088888888888889",
         "1": "7.459999999999999",
         "2": "18.126666666666665",
         "3": "2.303386282167519"
        },
        {
         "0": "0.4666666666666667",
         "1": "7.459999999999999",
         "2": "18.126666666666665",
         "3": "2.303386282167519"
        },
        {
         "0": "0.5244444444444445",
         "1": "7.459999999999999",
         "2": "18.126666666666665",
         "3": "2.303386282167519"
        },
        {
         "0": "0.5822222222222222",
         "1": "7.459999999999999",
         "2": "18.126666666666665",
         "3": "2.303386282167519"
        },
        {
         "0": "0.64",
         "1": "7.459999999999999",
         "2": "18.126666666666665",
         "3": "2.303386282167519"
        },
        {
         "0": "0.12",
         "1": "7.459999999999999",
         "2": "18.126666666666665",
         "3": "3.1037862821674866"
        },
        {
         "0": "0.17777777777777778",
         "1": "7.459999999999999",
         "2": "18.126666666666665",
         "3": "3.1037862821674866"
        },
        {
         "0": "0.23555555555555557",
         "1": "7.459999999999999",
         "2": "18.126666666666665",
         "3": "3.1037862821674866"
        },
        {
         "0": "0.29333333333333333",
         "1": "7.459999999999999",
         "2": "18.126666666666665",
         "3": "3.1037862821674866"
        },
        {
         "0": "0.35111111111111115",
         "1": "7.459999999999999",
         "2": "18.126666666666665",
         "3": "2.303386282167519"
        },
        {
         "0": "0.4088888888888889",
         "1": "7.459999999999999",
         "2": "18.126666666666665",
         "3": "2.303386282167519"
        },
        {
         "0": "0.4666666666666667",
         "1": "7.459999999999999",
         "2": "18.126666666666665",
         "3": "2.303386282167519"
        },
        {
         "0": "0.5244444444444445",
         "1": "7.459999999999999",
         "2": "18.126666666666665",
         "3": "2.303386282167519"
        },
        {
         "0": "0.5822222222222222",
         "1": "7.459999999999999",
         "2": "18.126666666666665",
         "3": "2.303386282167519"
        },
        {
         "0": "0.64",
         "1": "7.459999999999999",
         "2": "18.126666666666665",
         "3": "2.303386282167519"
        },
        {
         "0": "0.12",
         "1": "7.459999999999999",
         "2": "18.126666666666665",
         "3": "3.22619999999991"
        },
        {
         "0": "0.17777777777777778",
         "1": "7.459999999999999",
         "2": "18.126666666666665",
         "3": "3.22619999999991"
        },
        {
         "0": "0.23555555555555557",
         "1": "7.459999999999999",
         "2": "18.126666666666665",
         "3": "3.22619999999991"
        },
        {
         "0": "0.29333333333333333",
         "1": "7.459999999999999",
         "2": "18.126666666666665",
         "3": "3.22619999999991"
        },
        {
         "0": "0.35111111111111115",
         "1": "7.459999999999999",
         "2": "18.126666666666665",
         "3": "1.8599999999999646"
        },
        {
         "0": "0.4088888888888889",
         "1": "7.459999999999999",
         "2": "18.126666666666665",
         "3": "1.8599999999999646"
        },
        {
         "0": "0.4666666666666667",
         "1": "7.459999999999999",
         "2": "18.126666666666665",
         "3": "1.8599999999999646"
        },
        {
         "0": "0.5244444444444445",
         "1": "7.459999999999999",
         "2": "18.126666666666665",
         "3": "1.8599999999999646"
        },
        {
         "0": "0.5822222222222222",
         "1": "7.459999999999999",
         "2": "18.126666666666665",
         "3": "1.8599999999999646"
        },
        {
         "0": "0.64",
         "1": "7.459999999999999",
         "2": "18.126666666666665",
         "3": "1.8599999999999646"
        },
        {
         "0": "0.12",
         "1": "7.459999999999999",
         "2": "18.126666666666665",
         "3": "3.239999999999909"
        },
        {
         "0": "0.17777777777777778",
         "1": "7.459999999999999",
         "2": "18.126666666666665",
         "3": "3.239999999999909"
        },
        {
         "0": "0.23555555555555557",
         "1": "7.459999999999999",
         "2": "18.126666666666665",
         "3": "3.239999999999909"
        },
        {
         "0": "0.29333333333333333",
         "1": "7.459999999999999",
         "2": "18.126666666666665",
         "3": "3.239999999999909"
        },
        {
         "0": "0.35111111111111115",
         "1": "7.459999999999999",
         "2": "18.126666666666665",
         "3": "1.873799999999964"
        },
        {
         "0": "0.4088888888888889",
         "1": "7.459999999999999",
         "2": "18.126666666666665",
         "3": "1.873799999999964"
        },
        {
         "0": "0.4666666666666667",
         "1": "7.459999999999999",
         "2": "18.126666666666665",
         "3": "1.873799999999964"
        },
        {
         "0": "0.5244444444444445",
         "1": "7.459999999999999",
         "2": "18.126666666666665",
         "3": "1.873799999999964"
        },
        {
         "0": "0.5822222222222222",
         "1": "7.459999999999999",
         "2": "18.126666666666665",
         "3": "1.873799999999964"
        },
        {
         "0": "0.64",
         "1": "7.459999999999999",
         "2": "18.126666666666665",
         "3": "1.873799999999964"
        },
        {
         "0": "0.12",
         "1": "8.12",
         "2": "21.043333333333333",
         "3": "4.0400000000000835"
        },
        {
         "0": "0.17777777777777778",
         "1": "8.12",
         "2": "21.043333333333333",
         "3": "4.0400000000000835"
        },
        {
         "0": "0.23555555555555557",
         "1": "8.12",
         "2": "21.043333333333333",
         "3": "4.0400000000000835"
        },
        {
         "0": "0.29333333333333333",
         "1": "8.12",
         "2": "21.043333333333333",
         "3": "4.0400000000000835"
        },
        {
         "0": "0.35111111111111115",
         "1": "8.12",
         "2": "21.043333333333333",
         "3": "4.0400000000000835"
        },
        {
         "0": "0.4088888888888889",
         "1": "8.12",
         "2": "21.043333333333333",
         "3": "4.0400000000000835"
        },
        {
         "0": "0.4666666666666667",
         "1": "8.12",
         "2": "21.043333333333333",
         "3": "4.0400000000000835"
        },
        {
         "0": "0.5244444444444445",
         "1": "8.12",
         "2": "21.043333333333333",
         "3": "4.0400000000000835"
        },
        {
         "0": "0.5822222222222222",
         "1": "8.12",
         "2": "21.043333333333333",
         "3": "4.0400000000000835"
        },
        {
         "0": "0.64",
         "1": "8.12",
         "2": "21.043333333333333",
         "3": "4.0400000000000835"
        },
        {
         "0": "0.12",
         "1": "8.12",
         "2": "21.043333333333333",
         "3": "4.0400000000000835"
        },
        {
         "0": "0.17777777777777778",
         "1": "8.12",
         "2": "21.043333333333333",
         "3": "4.0400000000000835"
        },
        {
         "0": "0.23555555555555557",
         "1": "8.12",
         "2": "21.043333333333333",
         "3": "4.0400000000000835"
        },
        {
         "0": "0.29333333333333333",
         "1": "8.12",
         "2": "21.043333333333333",
         "3": "4.0400000000000835"
        },
        {
         "0": "0.35111111111111115",
         "1": "8.12",
         "2": "21.043333333333333",
         "3": "4.0400000000000835"
        },
        {
         "0": "0.4088888888888889",
         "1": "8.12",
         "2": "21.043333333333333",
         "3": "4.0400000000000835"
        },
        {
         "0": "0.4666666666666667",
         "1": "8.12",
         "2": "21.043333333333333",
         "3": "4.0400000000000835"
        },
        {
         "0": "0.5244444444444445",
         "1": "8.12",
         "2": "21.043333333333333",
         "3": "4.0400000000000835"
        },
        {
         "0": "0.5822222222222222",
         "1": "8.12",
         "2": "21.043333333333333",
         "3": "4.0400000000000835"
        },
        {
         "0": "0.64",
         "1": "8.12",
         "2": "21.043333333333333",
         "3": "4.0400000000000835"
        },
        {
         "0": "0.12",
         "1": "8.12",
         "2": "21.043333333333333",
         "3": "4.0400000000000835"
        },
        {
         "0": "0.17777777777777778",
         "1": "8.12",
         "2": "21.043333333333333",
         "3": "4.0400000000000835"
        },
        {
         "0": "0.23555555555555557",
         "1": "8.12",
         "2": "21.043333333333333",
         "3": "4.0400000000000835"
        },
        {
         "0": "0.29333333333333333",
         "1": "8.12",
         "2": "21.043333333333333",
         "3": "4.0400000000000835"
        },
        {
         "0": "0.35111111111111115",
         "1": "8.12",
         "2": "21.043333333333333",
         "3": "4.0400000000000835"
        },
        {
         "0": "0.4088888888888889",
         "1": "8.12",
         "2": "21.043333333333333",
         "3": "4.0400000000000835"
        },
        {
         "0": "0.4666666666666667",
         "1": "8.12",
         "2": "21.043333333333333",
         "3": "4.0400000000000835"
        },
        {
         "0": "0.5244444444444445",
         "1": "8.12",
         "2": "21.043333333333333",
         "3": "4.0400000000000835"
        },
        {
         "0": "0.5822222222222222",
         "1": "8.12",
         "2": "21.043333333333333",
         "3": "4.0400000000000835"
        },
        {
         "0": "0.64",
         "1": "8.12",
         "2": "21.043333333333333",
         "3": "4.0400000000000835"
        },
        {
         "0": "0.12",
         "1": "8.12",
         "2": "21.043333333333333",
         "3": "4.0400000000000835"
        },
        {
         "0": "0.17777777777777778",
         "1": "8.12",
         "2": "21.043333333333333",
         "3": "4.0400000000000835"
        },
        {
         "0": "0.23555555555555557",
         "1": "8.12",
         "2": "21.043333333333333",
         "3": "4.0400000000000835"
        },
        {
         "0": "0.29333333333333333",
         "1": "8.12",
         "2": "21.043333333333333",
         "3": "4.0400000000000835"
        },
        {
         "0": "0.35111111111111115",
         "1": "8.12",
         "2": "21.043333333333333",
         "3": "4.0400000000000835"
        },
        {
         "0": "0.4088888888888889",
         "1": "8.12",
         "2": "21.043333333333333",
         "3": "4.0400000000000835"
        },
        {
         "0": "0.4666666666666667",
         "1": "8.12",
         "2": "21.043333333333333",
         "3": "4.0400000000000835"
        },
        {
         "0": "0.5244444444444445",
         "1": "8.12",
         "2": "21.043333333333333",
         "3": "4.0400000000000835"
        },
        {
         "0": "0.5822222222222222",
         "1": "8.12",
         "2": "21.043333333333333",
         "3": "4.0400000000000835"
        },
        {
         "0": "0.64",
         "1": "8.12",
         "2": "21.043333333333333",
         "3": "4.0400000000000835"
        },
        {
         "0": "0.12",
         "1": "8.12",
         "2": "21.043333333333333",
         "3": "3.1037862821674866"
        },
        {
         "0": "0.17777777777777778",
         "1": "8.12",
         "2": "21.043333333333333",
         "3": "3.1037862821674866"
        },
        {
         "0": "0.23555555555555557",
         "1": "8.12",
         "2": "21.043333333333333",
         "3": "3.1037862821674866"
        },
        {
         "0": "0.29333333333333333",
         "1": "8.12",
         "2": "21.043333333333333",
         "3": "3.1037862821674866"
        },
        {
         "0": "0.35111111111111115",
         "1": "8.12",
         "2": "21.043333333333333",
         "3": "2.303386282167519"
        },
        {
         "0": "0.4088888888888889",
         "1": "8.12",
         "2": "21.043333333333333",
         "3": "2.303386282167519"
        },
        {
         "0": "0.4666666666666667",
         "1": "8.12",
         "2": "21.043333333333333",
         "3": "2.303386282167519"
        },
        {
         "0": "0.5244444444444445",
         "1": "8.12",
         "2": "21.043333333333333",
         "3": "2.303386282167519"
        },
        {
         "0": "0.5822222222222222",
         "1": "8.12",
         "2": "21.043333333333333",
         "3": "2.303386282167519"
        },
        {
         "0": "0.64",
         "1": "8.12",
         "2": "21.043333333333333",
         "3": "2.303386282167519"
        },
        {
         "0": "0.12",
         "1": "8.12",
         "2": "21.043333333333333",
         "3": "3.1037862821674866"
        },
        {
         "0": "0.17777777777777778",
         "1": "8.12",
         "2": "21.043333333333333",
         "3": "3.1037862821674866"
        },
        {
         "0": "0.23555555555555557",
         "1": "8.12",
         "2": "21.043333333333333",
         "3": "3.1037862821674866"
        },
        {
         "0": "0.29333333333333333",
         "1": "8.12",
         "2": "21.043333333333333",
         "3": "3.1037862821674866"
        },
        {
         "0": "0.35111111111111115",
         "1": "8.12",
         "2": "21.043333333333333",
         "3": "2.303386282167519"
        },
        {
         "0": "0.4088888888888889",
         "1": "8.12",
         "2": "21.043333333333333",
         "3": "2.303386282167519"
        },
        {
         "0": "0.4666666666666667",
         "1": "8.12",
         "2": "21.043333333333333",
         "3": "2.303386282167519"
        },
        {
         "0": "0.5244444444444445",
         "1": "8.12",
         "2": "21.043333333333333",
         "3": "2.303386282167519"
        },
        {
         "0": "0.5822222222222222",
         "1": "8.12",
         "2": "21.043333333333333",
         "3": "2.303386282167519"
        },
        {
         "0": "0.64",
         "1": "8.12",
         "2": "21.043333333333333",
         "3": "2.303386282167519"
        },
        {
         "0": "0.12",
         "1": "8.12",
         "2": "21.043333333333333",
         "3": "3.1037862821674866"
        },
        {
         "0": "0.17777777777777778",
         "1": "8.12",
         "2": "21.043333333333333",
         "3": "3.1037862821674866"
        },
        {
         "0": "0.23555555555555557",
         "1": "8.12",
         "2": "21.043333333333333",
         "3": "3.1037862821674866"
        },
        {
         "0": "0.29333333333333333",
         "1": "8.12",
         "2": "21.043333333333333",
         "3": "3.1037862821674866"
        },
        {
         "0": "0.35111111111111115",
         "1": "8.12",
         "2": "21.043333333333333",
         "3": "2.303386282167519"
        },
        {
         "0": "0.4088888888888889",
         "1": "8.12",
         "2": "21.043333333333333",
         "3": "2.303386282167519"
        },
        {
         "0": "0.4666666666666667",
         "1": "8.12",
         "2": "21.043333333333333",
         "3": "2.303386282167519"
        },
        {
         "0": "0.5244444444444445",
         "1": "8.12",
         "2": "21.043333333333333",
         "3": "2.303386282167519"
        },
        {
         "0": "0.5822222222222222",
         "1": "8.12",
         "2": "21.043333333333333",
         "3": "2.303386282167519"
        },
        {
         "0": "0.64",
         "1": "8.12",
         "2": "21.043333333333333",
         "3": "2.303386282167519"
        },
        {
         "0": "0.12",
         "1": "8.12",
         "2": "21.043333333333333",
         "3": "3.1037862821674866"
        },
        {
         "0": "0.17777777777777778",
         "1": "8.12",
         "2": "21.043333333333333",
         "3": "3.1037862821674866"
        },
        {
         "0": "0.23555555555555557",
         "1": "8.12",
         "2": "21.043333333333333",
         "3": "3.1037862821674866"
        },
        {
         "0": "0.29333333333333333",
         "1": "8.12",
         "2": "21.043333333333333",
         "3": "3.1037862821674866"
        },
        {
         "0": "0.35111111111111115",
         "1": "8.12",
         "2": "21.043333333333333",
         "3": "2.303386282167519"
        },
        {
         "0": "0.4088888888888889",
         "1": "6.799999999999999",
         "2": "15.21",
         "3": "4.0400000000000835"
        },
        {
         "0": "0.4666666666666667",
         "1": "6.799999999999999",
         "2": "15.21",
         "3": "4.0400000000000835"
        },
        {
         "0": "0.5244444444444445",
         "1": "6.799999999999999",
         "2": "15.21",
         "3": "4.0400000000000835"
        },
        {
         "0": "0.5822222222222222",
         "1": "6.799999999999999",
         "2": "15.21",
         "3": "4.0400000000000835"
        },
        {
         "0": "0.64",
         "1": "6.799999999999999",
         "2": "15.21",
         "3": "4.0400000000000835"
        },
        {
         "0": "0.12",
         "1": "6.799999999999999",
         "2": "15.21",
         "3": "4.0400000000000835"
        },
        {
         "0": "0.17777777777777778",
         "1": "6.799999999999999",
         "2": "15.21",
         "3": "4.0400000000000835"
        },
        {
         "0": "0.23555555555555557",
         "1": "6.799999999999999",
         "2": "15.21",
         "3": "4.0400000000000835"
        },
        {
         "0": "0.29333333333333333",
         "1": "6.799999999999999",
         "2": "15.21",
         "3": "4.0400000000000835"
        },
        {
         "0": "0.35111111111111115",
         "1": "6.799999999999999",
         "2": "15.21",
         "3": "4.0400000000000835"
        },
        {
         "0": "0.4088888888888889",
         "1": "6.799999999999999",
         "2": "15.21",
         "3": "4.0400000000000835"
        },
        {
         "0": "0.4666666666666667",
         "1": "6.799999999999999",
         "2": "15.21",
         "3": "4.0400000000000835"
        },
        {
         "0": "0.5244444444444445",
         "1": "6.799999999999999",
         "2": "15.21",
         "3": "4.0400000000000835"
        },
        {
         "0": "0.5822222222222222",
         "1": "6.799999999999999",
         "2": "15.21",
         "3": "4.0400000000000835"
        },
        {
         "0": "0.64",
         "1": "6.799999999999999",
         "2": "15.21",
         "3": "4.0400000000000835"
        },
        {
         "0": "0.12",
         "1": "6.799999999999999",
         "2": "15.21",
         "3": "3.1037862821674866"
        },
        {
         "0": "0.17777777777777778",
         "1": "6.799999999999999",
         "2": "15.21",
         "3": "3.1037862821674866"
        },
        {
         "0": "0.23555555555555557",
         "1": "6.799999999999999",
         "2": "15.21",
         "3": "3.1037862821674866"
        },
        {
         "0": "0.29333333333333333",
         "1": "6.799999999999999",
         "2": "15.21",
         "3": "3.1037862821674866"
        },
        {
         "0": "0.35111111111111115",
         "1": "6.799999999999999",
         "2": "15.21",
         "3": "2.303386282167519"
        },
        {
         "0": "0.4088888888888889",
         "1": "6.799999999999999",
         "2": "15.21",
         "3": "2.303386282167519"
        },
        {
         "0": "0.4666666666666667",
         "1": "6.799999999999999",
         "2": "15.21",
         "3": "2.303386282167519"
        },
        {
         "0": "0.5244444444444445",
         "1": "6.799999999999999",
         "2": "15.21",
         "3": "2.303386282167519"
        },
        {
         "0": "0.5822222222222222",
         "1": "6.799999999999999",
         "2": "15.21",
         "3": "2.303386282167519"
        },
        {
         "0": "0.64",
         "1": "6.799999999999999",
         "2": "15.21",
         "3": "2.303386282167519"
        },
        {
         "0": "0.12",
         "1": "6.799999999999999",
         "2": "15.21",
         "3": "3.1037862821674866"
        },
        {
         "0": "0.17777777777777778",
         "1": "6.799999999999999",
         "2": "15.21",
         "3": "3.1037862821674866"
        },
        {
         "0": "0.23555555555555557",
         "1": "6.799999999999999",
         "2": "15.21",
         "3": "3.1037862821674866"
        },
        {
         "0": "0.29333333333333333",
         "1": "6.799999999999999",
         "2": "15.21",
         "3": "3.1037862821674866"
        },
        {
         "0": "0.35111111111111115",
         "1": "6.799999999999999",
         "2": "15.21",
         "3": "2.303386282167519"
        },
        {
         "0": "0.4088888888888889",
         "1": "6.799999999999999",
         "2": "15.21",
         "3": "2.303386282167519"
        },
        {
         "0": "0.4666666666666667",
         "1": "6.799999999999999",
         "2": "15.21",
         "3": "2.303386282167519"
        },
        {
         "0": "0.5244444444444445",
         "1": "6.799999999999999",
         "2": "15.21",
         "3": "2.303386282167519"
        },
        {
         "0": "0.5822222222222222",
         "1": "6.799999999999999",
         "2": "15.21",
         "3": "2.303386282167519"
        },
        {
         "0": "0.64",
         "1": "6.799999999999999",
         "2": "15.21",
         "3": "2.303386282167519"
        },
        {
         "0": "0.12",
         "1": "6.799999999999999",
         "2": "15.21",
         "3": "3.1037862821674866"
        },
        {
         "0": "0.17777777777777778",
         "1": "6.799999999999999",
         "2": "15.21",
         "3": "3.1037862821674866"
        },
        {
         "0": "0.23555555555555557",
         "1": "6.799999999999999",
         "2": "15.21",
         "3": "3.1037862821674866"
        },
        {
         "0": "0.29333333333333333",
         "1": "6.799999999999999",
         "2": "15.21",
         "3": "3.1037862821674866"
        },
        {
         "0": "0.35111111111111115",
         "1": "6.799999999999999",
         "2": "15.21",
         "3": "2.303386282167519"
        },
        {
         "0": "0.4088888888888889",
         "1": "6.799999999999999",
         "2": "15.21",
         "3": "2.303386282167519"
        },
        {
         "0": "0.4666666666666667",
         "1": "6.799999999999999",
         "2": "15.21",
         "3": "2.303386282167519"
        },
        {
         "0": "0.5244444444444445",
         "1": "6.799999999999999",
         "2": "15.21",
         "3": "2.303386282167519"
        },
        {
         "0": "0.5822222222222222",
         "1": "6.799999999999999",
         "2": "15.21",
         "3": "2.303386282167519"
        },
        {
         "0": "0.64",
         "1": "6.799999999999999",
         "2": "15.21",
         "3": "2.303386282167519"
        },
        {
         "0": "0.12",
         "1": "6.799999999999999",
         "2": "15.21",
         "3": "3.1037862821674866"
        },
        {
         "0": "0.17777777777777778",
         "1": "6.799999999999999",
         "2": "15.21",
         "3": "3.1037862821674866"
        },
        {
         "0": "0.23555555555555557",
         "1": "6.799999999999999",
         "2": "15.21",
         "3": "3.1037862821674866"
        },
        {
         "0": "0.29333333333333333",
         "1": "6.799999999999999",
         "2": "15.21",
         "3": "3.1037862821674866"
        },
        {
         "0": "0.35111111111111115",
         "1": "6.799999999999999",
         "2": "15.21",
         "3": "2.303386282167519"
        },
        {
         "0": "0.4088888888888889",
         "1": "6.799999999999999",
         "2": "15.21",
         "3": "2.303386282167519"
        },
        {
         "0": "0.4666666666666667",
         "1": "6.799999999999999",
         "2": "15.21",
         "3": "2.303386282167519"
        },
        {
         "0": "0.5244444444444445",
         "1": "6.799999999999999",
         "2": "15.21",
         "3": "2.303386282167519"
        },
        {
         "0": "0.5822222222222222",
         "1": "6.799999999999999",
         "2": "15.21",
         "3": "2.303386282167519"
        },
        {
         "0": "0.64",
         "1": "6.799999999999999",
         "2": "15.21",
         "3": "2.303386282167519"
        },
        {
         "0": "0.12",
         "1": "6.799999999999999",
         "2": "15.21",
         "3": "3.22619999999991"
        },
        {
         "0": "0.17777777777777778",
         "1": "6.799999999999999",
         "2": "15.21",
         "3": "3.22619999999991"
        },
        {
         "0": "0.23555555555555557",
         "1": "6.799999999999999",
         "2": "15.21",
         "3": "3.22619999999991"
        },
        {
         "0": "0.29333333333333333",
         "1": "6.799999999999999",
         "2": "15.21",
         "3": "3.22619999999991"
        },
        {
         "0": "0.35111111111111115",
         "1": "6.799999999999999",
         "2": "15.21",
         "3": "1.8599999999999646"
        },
        {
         "0": "0.4088888888888889",
         "1": "6.799999999999999",
         "2": "15.21",
         "3": "1.8599999999999646"
        },
        {
         "0": "0.4666666666666667",
         "1": "6.799999999999999",
         "2": "15.21",
         "3": "1.8599999999999646"
        },
        {
         "0": "0.5244444444444445",
         "1": "6.799999999999999",
         "2": "15.21",
         "3": "1.8599999999999646"
        },
        {
         "0": "0.5822222222222222",
         "1": "6.799999999999999",
         "2": "15.21",
         "3": "1.8599999999999646"
        },
        {
         "0": "0.64",
         "1": "6.799999999999999",
         "2": "15.21",
         "3": "1.8599999999999646"
        },
        {
         "0": "0.12",
         "1": "6.799999999999999",
         "2": "15.21",
         "3": "3.239999999999909"
        },
        {
         "0": "0.17777777777777778",
         "1": "6.799999999999999",
         "2": "15.21",
         "3": "3.239999999999909"
        },
        {
         "0": "0.23555555555555557",
         "1": "6.799999999999999",
         "2": "15.21",
         "3": "3.239999999999909"
        },
        {
         "0": "0.29333333333333333",
         "1": "6.799999999999999",
         "2": "15.21",
         "3": "3.239999999999909"
        },
        {
         "0": "0.35111111111111115",
         "1": "6.799999999999999",
         "2": "15.21",
         "3": "1.873799999999964"
        },
        {
         "0": "0.4088888888888889",
         "1": "6.799999999999999",
         "2": "15.21",
         "3": "1.873799999999964"
        },
        {
         "0": "0.4666666666666667",
         "1": "6.799999999999999",
         "2": "15.21",
         "3": "1.873799999999964"
        },
        {
         "0": "0.5244444444444445",
         "1": "6.799999999999999",
         "2": "15.21",
         "3": "1.873799999999964"
        },
        {
         "0": "0.5822222222222222",
         "1": "6.799999999999999",
         "2": "15.21",
         "3": "1.873799999999964"
        },
        {
         "0": "0.64",
         "1": "6.799999999999999",
         "2": "15.21",
         "3": "1.873799999999964"
        },
        {
         "0": "0.12",
         "1": "7.459999999999999",
         "2": "18.126666666666665",
         "3": "4.0400000000000835"
        },
        {
         "0": "0.17777777777777778",
         "1": "7.459999999999999",
         "2": "18.126666666666665",
         "3": "4.0400000000000835"
        },
        {
         "0": "0.23555555555555557",
         "1": "7.459999999999999",
         "2": "18.126666666666665",
         "3": "4.0400000000000835"
        },
        {
         "0": "0.29333333333333333",
         "1": "7.459999999999999",
         "2": "18.126666666666665",
         "3": "4.0400000000000835"
        },
        {
         "0": "0.35111111111111115",
         "1": "7.459999999999999",
         "2": "18.126666666666665",
         "3": "4.0400000000000835"
        },
        {
         "0": "0.4088888888888889",
         "1": "7.459999999999999",
         "2": "18.126666666666665",
         "3": "4.0400000000000835"
        },
        {
         "0": "0.4666666666666667",
         "1": "7.459999999999999",
         "2": "18.126666666666665",
         "3": "4.0400000000000835"
        },
        {
         "0": "0.5244444444444445",
         "1": "7.459999999999999",
         "2": "18.126666666666665",
         "3": "4.0400000000000835"
        },
        {
         "0": "0.5822222222222222",
         "1": "7.459999999999999",
         "2": "18.126666666666665",
         "3": "4.0400000000000835"
        },
        {
         "0": "0.64",
         "1": "7.459999999999999",
         "2": "18.126666666666665",
         "3": "4.0400000000000835"
        },
        {
         "0": "0.12",
         "1": "7.459999999999999",
         "2": "18.126666666666665",
         "3": "4.0400000000000835"
        },
        {
         "0": "0.17777777777777778",
         "1": "7.459999999999999",
         "2": "18.126666666666665",
         "3": "4.0400000000000835"
        },
        {
         "0": "0.23555555555555557",
         "1": "7.459999999999999",
         "2": "18.126666666666665",
         "3": "4.0400000000000835"
        },
        {
         "0": "0.29333333333333333",
         "1": "7.459999999999999",
         "2": "18.126666666666665",
         "3": "4.0400000000000835"
        },
        {
         "0": "0.35111111111111115",
         "1": "7.459999999999999",
         "2": "18.126666666666665",
         "3": "4.0400000000000835"
        },
        {
         "0": "0.4088888888888889",
         "1": "7.459999999999999",
         "2": "18.126666666666665",
         "3": "4.0400000000000835"
        },
        {
         "0": "0.4666666666666667",
         "1": "7.459999999999999",
         "2": "18.126666666666665",
         "3": "4.0400000000000835"
        },
        {
         "0": "0.5244444444444445",
         "1": "7.459999999999999",
         "2": "18.126666666666665",
         "3": "4.0400000000000835"
        },
        {
         "0": "0.5822222222222222",
         "1": "7.459999999999999",
         "2": "18.126666666666665",
         "3": "4.0400000000000835"
        },
        {
         "0": "0.64",
         "1": "7.459999999999999",
         "2": "18.126666666666665",
         "3": "4.0400000000000835"
        },
        {
         "0": "0.12",
         "1": "7.459999999999999",
         "2": "18.126666666666665",
         "3": "4.0400000000000835"
        },
        {
         "0": "0.17777777777777778",
         "1": "7.459999999999999",
         "2": "18.126666666666665",
         "3": "4.0400000000000835"
        },
        {
         "0": "0.23555555555555557",
         "1": "7.459999999999999",
         "2": "18.126666666666665",
         "3": "4.0400000000000835"
        },
        {
         "0": "0.29333333333333333",
         "1": "7.459999999999999",
         "2": "18.126666666666665",
         "3": "4.0400000000000835"
        },
        {
         "0": "0.35111111111111115",
         "1": "7.459999999999999",
         "2": "18.126666666666665",
         "3": "4.0400000000000835"
        },
        {
         "0": "0.4088888888888889",
         "1": "7.459999999999999",
         "2": "18.126666666666665",
         "3": "4.0400000000000835"
        },
        {
         "0": "0.4666666666666667",
         "1": "7.459999999999999",
         "2": "18.126666666666665",
         "3": "4.0400000000000835"
        },
        {
         "0": "0.5244444444444445",
         "1": "7.459999999999999",
         "2": "18.126666666666665",
         "3": "4.0400000000000835"
        },
        {
         "0": "0.5822222222222222",
         "1": "7.459999999999999",
         "2": "18.126666666666665",
         "3": "4.0400000000000835"
        },
        {
         "0": "0.64",
         "1": "7.459999999999999",
         "2": "18.126666666666665",
         "3": "4.0400000000000835"
        },
        {
         "0": "0.12",
         "1": "7.459999999999999",
         "2": "18.126666666666665",
         "3": "4.0400000000000835"
        },
        {
         "0": "0.17777777777777778",
         "1": "7.459999999999999",
         "2": "18.126666666666665",
         "3": "4.0400000000000835"
        },
        {
         "0": "0.23555555555555557",
         "1": "7.459999999999999",
         "2": "18.126666666666665",
         "3": "4.0400000000000835"
        },
        {
         "0": "0.29333333333333333",
         "1": "7.459999999999999",
         "2": "18.126666666666665",
         "3": "4.0400000000000835"
        },
        {
         "0": "0.35111111111111115",
         "1": "7.459999999999999",
         "2": "18.126666666666665",
         "3": "4.0400000000000835"
        },
        {
         "0": "0.4088888888888889",
         "1": "7.459999999999999",
         "2": "18.126666666666665",
         "3": "4.0400000000000835"
        },
        {
         "0": "0.4666666666666667",
         "1": "7.459999999999999",
         "2": "18.126666666666665",
         "3": "4.0400000000000835"
        },
        {
         "0": "0.5244444444444445",
         "1": "7.459999999999999",
         "2": "18.126666666666665",
         "3": "4.0400000000000835"
        },
        {
         "0": "0.5822222222222222",
         "1": "7.459999999999999",
         "2": "18.126666666666665",
         "3": "4.0400000000000835"
        },
        {
         "0": "0.64",
         "1": "7.459999999999999",
         "2": "18.126666666666665",
         "3": "4.0400000000000835"
        },
        {
         "0": "0.12",
         "1": "7.459999999999999",
         "2": "18.126666666666665",
         "3": "3.1037862821674866"
        },
        {
         "0": "0.17777777777777778",
         "1": "7.459999999999999",
         "2": "18.126666666666665",
         "3": "3.1037862821674866"
        },
        {
         "0": "0.23555555555555557",
         "1": "7.459999999999999",
         "2": "18.126666666666665",
         "3": "3.1037862821674866"
        },
        {
         "0": "0.29333333333333333",
         "1": "7.459999999999999",
         "2": "18.126666666666665",
         "3": "3.1037862821674866"
        },
        {
         "0": "0.35111111111111115",
         "1": "7.459999999999999",
         "2": "18.126666666666665",
         "3": "2.303386282167519"
        },
        {
         "0": "0.4088888888888889",
         "1": "7.459999999999999",
         "2": "18.126666666666665",
         "3": "2.303386282167519"
        },
        {
         "0": "0.4666666666666667",
         "1": "7.459999999999999",
         "2": "18.126666666666665",
         "3": "2.303386282167519"
        },
        {
         "0": "0.5244444444444445",
         "1": "7.459999999999999",
         "2": "18.126666666666665",
         "3": "2.303386282167519"
        },
        {
         "0": "0.5822222222222222",
         "1": "7.459999999999999",
         "2": "18.126666666666665",
         "3": "2.303386282167519"
        },
        {
         "0": "0.64",
         "1": "7.459999999999999",
         "2": "18.126666666666665",
         "3": "2.303386282167519"
        },
        {
         "0": "0.12",
         "1": "6.14",
         "2": "12.293333333333333",
         "3": "4.0400000000000835"
        },
        {
         "0": "0.17777777777777778",
         "1": "6.14",
         "2": "12.293333333333333",
         "3": "4.0400000000000835"
        },
        {
         "0": "0.23555555555555557",
         "1": "6.14",
         "2": "12.293333333333333",
         "3": "4.0400000000000835"
        },
        {
         "0": "0.29333333333333333",
         "1": "6.14",
         "2": "12.293333333333333",
         "3": "4.0400000000000835"
        },
        {
         "0": "0.35111111111111115",
         "1": "6.14",
         "2": "12.293333333333333",
         "3": "4.0400000000000835"
        },
        {
         "0": "0.4088888888888889",
         "1": "6.14",
         "2": "12.293333333333333",
         "3": "4.0400000000000835"
        },
        {
         "0": "0.4666666666666667",
         "1": "6.14",
         "2": "12.293333333333333",
         "3": "4.0400000000000835"
        },
        {
         "0": "0.5244444444444445",
         "1": "6.14",
         "2": "12.293333333333333",
         "3": "4.0400000000000835"
        },
        {
         "0": "0.5822222222222222",
         "1": "6.14",
         "2": "12.293333333333333",
         "3": "4.0400000000000835"
        },
        {
         "0": "0.64",
         "1": "6.14",
         "2": "12.293333333333333",
         "3": "4.0400000000000835"
        },
        {
         "0": "0.12",
         "1": "6.14",
         "2": "12.293333333333333",
         "3": "4.0400000000000835"
        },
        {
         "0": "0.17777777777777778",
         "1": "6.14",
         "2": "12.293333333333333",
         "3": "4.0400000000000835"
        },
        {
         "0": "0.23555555555555557",
         "1": "6.14",
         "2": "12.293333333333333",
         "3": "4.0400000000000835"
        },
        {
         "0": "0.29333333333333333",
         "1": "6.14",
         "2": "12.293333333333333",
         "3": "4.0400000000000835"
        },
        {
         "0": "0.35111111111111115",
         "1": "6.14",
         "2": "12.293333333333333",
         "3": "4.0400000000000835"
        },
        {
         "0": "0.4088888888888889",
         "1": "6.14",
         "2": "12.293333333333333",
         "3": "4.0400000000000835"
        },
        {
         "0": "0.4666666666666667",
         "1": "6.14",
         "2": "12.293333333333333",
         "3": "4.0400000000000835"
        },
        {
         "0": "0.5244444444444445",
         "1": "6.14",
         "2": "12.293333333333333",
         "3": "4.0400000000000835"
        },
        {
         "0": "0.5822222222222222",
         "1": "6.14",
         "2": "12.293333333333333",
         "3": "4.0400000000000835"
        },
        {
         "0": "0.64",
         "1": "6.14",
         "2": "12.293333333333333",
         "3": "4.0400000000000835"
        },
        {
         "0": "0.12",
         "1": "6.14",
         "2": "12.293333333333333",
         "3": "4.0400000000000835"
        },
        {
         "0": "0.17777777777777778",
         "1": "6.14",
         "2": "12.293333333333333",
         "3": "4.0400000000000835"
        },
        {
         "0": "0.23555555555555557",
         "1": "6.14",
         "2": "12.293333333333333",
         "3": "4.0400000000000835"
        },
        {
         "0": "0.29333333333333333",
         "1": "6.14",
         "2": "12.293333333333333",
         "3": "4.0400000000000835"
        },
        {
         "0": "0.35111111111111115",
         "1": "6.14",
         "2": "12.293333333333333",
         "3": "4.0400000000000835"
        },
        {
         "0": "0.4088888888888889",
         "1": "6.14",
         "2": "12.293333333333333",
         "3": "4.0400000000000835"
        },
        {
         "0": "0.4666666666666667",
         "1": "6.14",
         "2": "12.293333333333333",
         "3": "4.0400000000000835"
        },
        {
         "0": "0.5244444444444445",
         "1": "6.14",
         "2": "12.293333333333333",
         "3": "4.0400000000000835"
        },
        {
         "0": "0.5822222222222222",
         "1": "6.14",
         "2": "12.293333333333333",
         "3": "4.0400000000000835"
        },
        {
         "0": "0.64",
         "1": "6.14",
         "2": "12.293333333333333",
         "3": "4.0400000000000835"
        },
        {
         "0": "0.12",
         "1": "6.14",
         "2": "12.293333333333333",
         "3": "4.0400000000000835"
        },
        {
         "0": "0.17777777777777778",
         "1": "6.14",
         "2": "12.293333333333333",
         "3": "4.0400000000000835"
        },
        {
         "0": "0.23555555555555557",
         "1": "6.14",
         "2": "12.293333333333333",
         "3": "4.0400000000000835"
        },
        {
         "0": "0.29333333333333333",
         "1": "6.14",
         "2": "12.293333333333333",
         "3": "4.0400000000000835"
        },
        {
         "0": "0.35111111111111115",
         "1": "6.14",
         "2": "12.293333333333333",
         "3": "4.0400000000000835"
        },
        {
         "0": "0.4088888888888889",
         "1": "6.14",
         "2": "12.293333333333333",
         "3": "4.0400000000000835"
        },
        {
         "0": "0.4666666666666667",
         "1": "6.14",
         "2": "12.293333333333333",
         "3": "4.0400000000000835"
        },
        {
         "0": "0.5244444444444445",
         "1": "6.14",
         "2": "12.293333333333333",
         "3": "4.0400000000000835"
        },
        {
         "0": "0.5822222222222222",
         "1": "6.14",
         "2": "12.293333333333333",
         "3": "4.0400000000000835"
        },
        {
         "0": "0.64",
         "1": "6.14",
         "2": "12.293333333333333",
         "3": "4.0400000000000835"
        },
        {
         "0": "0.12",
         "1": "6.14",
         "2": "12.293333333333333",
         "3": "3.1037862821674866"
        },
        {
         "0": "0.17777777777777778",
         "1": "6.14",
         "2": "12.293333333333333",
         "3": "3.1037862821674866"
        },
        {
         "0": "0.23555555555555557",
         "1": "6.14",
         "2": "12.293333333333333",
         "3": "3.1037862821674866"
        },
        {
         "0": "0.29333333333333333",
         "1": "6.14",
         "2": "12.293333333333333",
         "3": "3.1037862821674866"
        },
        {
         "0": "0.35111111111111115",
         "1": "6.14",
         "2": "12.293333333333333",
         "3": "2.303386282167519"
        },
        {
         "0": "0.4088888888888889",
         "1": "6.14",
         "2": "12.293333333333333",
         "3": "2.303386282167519"
        },
        {
         "0": "0.4666666666666667",
         "1": "6.14",
         "2": "12.293333333333333",
         "3": "2.303386282167519"
        },
        {
         "0": "0.5244444444444445",
         "1": "6.14",
         "2": "12.293333333333333",
         "3": "2.303386282167519"
        },
        {
         "0": "0.5822222222222222",
         "1": "6.14",
         "2": "12.293333333333333",
         "3": "2.303386282167519"
        },
        {
         "0": "0.64",
         "1": "6.14",
         "2": "12.293333333333333",
         "3": "2.303386282167519"
        },
        {
         "0": "0.12",
         "1": "6.14",
         "2": "12.293333333333333",
         "3": "3.1037862821674866"
        },
        {
         "0": "0.17777777777777778",
         "1": "6.14",
         "2": "12.293333333333333",
         "3": "3.1037862821674866"
        },
        {
         "0": "0.23555555555555557",
         "1": "6.14",
         "2": "12.293333333333333",
         "3": "3.1037862821674866"
        },
        {
         "0": "0.29333333333333333",
         "1": "6.14",
         "2": "12.293333333333333",
         "3": "3.1037862821674866"
        },
        {
         "0": "0.35111111111111115",
         "1": "6.14",
         "2": "12.293333333333333",
         "3": "2.303386282167519"
        },
        {
         "0": "0.4088888888888889",
         "1": "6.14",
         "2": "12.293333333333333",
         "3": "2.303386282167519"
        },
        {
         "0": "0.4666666666666667",
         "1": "6.14",
         "2": "12.293333333333333",
         "3": "2.303386282167519"
        },
        {
         "0": "0.5244444444444445",
         "1": "6.14",
         "2": "12.293333333333333",
         "3": "2.303386282167519"
        },
        {
         "0": "0.5822222222222222",
         "1": "6.14",
         "2": "12.293333333333333",
         "3": "2.303386282167519"
        },
        {
         "0": "0.64",
         "1": "6.14",
         "2": "12.293333333333333",
         "3": "2.303386282167519"
        },
        {
         "0": "0.12",
         "1": "6.14",
         "2": "12.293333333333333",
         "3": "3.1037862821674866"
        },
        {
         "0": "0.17777777777777778",
         "1": "6.14",
         "2": "12.293333333333333",
         "3": "3.1037862821674866"
        },
        {
         "0": "0.23555555555555557",
         "1": "6.14",
         "2": "12.293333333333333",
         "3": "3.1037862821674866"
        },
        {
         "0": "0.29333333333333333",
         "1": "6.14",
         "2": "12.293333333333333",
         "3": "3.1037862821674866"
        },
        {
         "0": "0.35111111111111115",
         "1": "6.14",
         "2": "12.293333333333333",
         "3": "2.303386282167519"
        },
        {
         "0": "0.4088888888888889",
         "1": "6.14",
         "2": "12.293333333333333",
         "3": "2.303386282167519"
        },
        {
         "0": "0.4666666666666667",
         "1": "6.14",
         "2": "12.293333333333333",
         "3": "2.303386282167519"
        },
        {
         "0": "0.5244444444444445",
         "1": "6.14",
         "2": "12.293333333333333",
         "3": "2.303386282167519"
        },
        {
         "0": "0.5822222222222222",
         "1": "6.14",
         "2": "12.293333333333333",
         "3": "2.303386282167519"
        },
        {
         "0": "0.64",
         "1": "6.14",
         "2": "12.293333333333333",
         "3": "2.303386282167519"
        },
        {
         "0": "0.12",
         "1": "6.14",
         "2": "12.293333333333333",
         "3": "3.1037862821674866"
        },
        {
         "0": "0.17777777777777778",
         "1": "6.14",
         "2": "12.293333333333333",
         "3": "3.1037862821674866"
        },
        {
         "0": "0.23555555555555557",
         "1": "6.14",
         "2": "12.293333333333333",
         "3": "3.1037862821674866"
        },
        {
         "0": "0.29333333333333333",
         "1": "6.14",
         "2": "12.293333333333333",
         "3": "3.1037862821674866"
        },
        {
         "0": "0.35111111111111115",
         "1": "6.14",
         "2": "12.293333333333333",
         "3": "2.303386282167519"
        },
        {
         "0": "0.4088888888888889",
         "1": "6.14",
         "2": "12.293333333333333",
         "3": "2.303386282167519"
        },
        {
         "0": "0.4666666666666667",
         "1": "6.14",
         "2": "12.293333333333333",
         "3": "2.303386282167519"
        },
        {
         "0": "0.5244444444444445",
         "1": "6.14",
         "2": "12.293333333333333",
         "3": "2.303386282167519"
        },
        {
         "0": "0.5822222222222222",
         "1": "6.14",
         "2": "12.293333333333333",
         "3": "2.303386282167519"
        },
        {
         "0": "0.64",
         "1": "6.14",
         "2": "12.293333333333333",
         "3": "2.303386282167519"
        },
        {
         "0": "0.12",
         "1": "6.14",
         "2": "12.293333333333333",
         "3": "3.22619999999991"
        },
        {
         "0": "0.17777777777777778",
         "1": "6.14",
         "2": "12.293333333333333",
         "3": "3.22619999999991"
        },
        {
         "0": "0.23555555555555557",
         "1": "6.14",
         "2": "12.293333333333333",
         "3": "3.22619999999991"
        },
        {
         "0": "0.29333333333333333",
         "1": "6.14",
         "2": "12.293333333333333",
         "3": "3.22619999999991"
        },
        {
         "0": "0.35111111111111115",
         "1": "6.14",
         "2": "12.293333333333333",
         "3": "1.8599999999999646"
        },
        {
         "0": "0.4088888888888889",
         "1": "6.14",
         "2": "12.293333333333333",
         "3": "1.8599999999999646"
        },
        {
         "0": "0.4666666666666667",
         "1": "6.14",
         "2": "12.293333333333333",
         "3": "1.8599999999999646"
        },
        {
         "0": "0.5244444444444445",
         "1": "6.14",
         "2": "12.293333333333333",
         "3": "1.8599999999999646"
        },
        {
         "0": "0.5822222222222222",
         "1": "6.14",
         "2": "12.293333333333333",
         "3": "1.8599999999999646"
        },
        {
         "0": "0.64",
         "1": "6.14",
         "2": "12.293333333333333",
         "3": "1.8599999999999646"
        },
        {
         "0": "0.12",
         "1": "6.14",
         "2": "12.293333333333333",
         "3": "3.239999999999909"
        },
        {
         "0": "0.17777777777777778",
         "1": "6.14",
         "2": "12.293333333333333",
         "3": "3.239999999999909"
        },
        {
         "0": "0.23555555555555557",
         "1": "6.14",
         "2": "12.293333333333333",
         "3": "3.239999999999909"
        },
        {
         "0": "0.29333333333333333",
         "1": "6.14",
         "2": "12.293333333333333",
         "3": "3.239999999999909"
        },
        {
         "0": "0.35111111111111115",
         "1": "6.14",
         "2": "12.293333333333333",
         "3": "1.873799999999964"
        },
        {
         "0": "0.4088888888888889",
         "1": "6.14",
         "2": "12.293333333333333",
         "3": "1.873799999999964"
        },
        {
         "0": "0.4666666666666667",
         "1": "6.14",
         "2": "12.293333333333333",
         "3": "1.873799999999964"
        },
        {
         "0": "0.5244444444444445",
         "1": "6.14",
         "2": "12.293333333333333",
         "3": "1.873799999999964"
        },
        {
         "0": "0.5822222222222222",
         "1": "6.14",
         "2": "12.293333333333333",
         "3": "1.873799999999964"
        },
        {
         "0": "0.64",
         "1": "6.14",
         "2": "12.293333333333333",
         "3": "1.873799999999964"
        },
        {
         "0": "0.12",
         "1": "6.799999999999999",
         "2": "15.21",
         "3": "4.0400000000000835"
        },
        {
         "0": "0.17777777777777778",
         "1": "6.799999999999999",
         "2": "15.21",
         "3": "4.0400000000000835"
        },
        {
         "0": "0.23555555555555557",
         "1": "6.799999999999999",
         "2": "15.21",
         "3": "4.0400000000000835"
        },
        {
         "0": "0.29333333333333333",
         "1": "6.799999999999999",
         "2": "15.21",
         "3": "4.0400000000000835"
        },
        {
         "0": "0.35111111111111115",
         "1": "6.799999999999999",
         "2": "15.21",
         "3": "4.0400000000000835"
        },
        {
         "0": "0.4088888888888889",
         "1": "6.799999999999999",
         "2": "15.21",
         "3": "4.0400000000000835"
        },
        {
         "0": "0.4666666666666667",
         "1": "6.799999999999999",
         "2": "15.21",
         "3": "4.0400000000000835"
        },
        {
         "0": "0.5244444444444445",
         "1": "6.799999999999999",
         "2": "15.21",
         "3": "4.0400000000000835"
        },
        {
         "0": "0.5822222222222222",
         "1": "6.799999999999999",
         "2": "15.21",
         "3": "4.0400000000000835"
        },
        {
         "0": "0.64",
         "1": "6.799999999999999",
         "2": "15.21",
         "3": "4.0400000000000835"
        },
        {
         "0": "0.12",
         "1": "6.799999999999999",
         "2": "15.21",
         "3": "4.0400000000000835"
        },
        {
         "0": "0.17777777777777778",
         "1": "6.799999999999999",
         "2": "15.21",
         "3": "4.0400000000000835"
        },
        {
         "0": "0.23555555555555557",
         "1": "6.799999999999999",
         "2": "15.21",
         "3": "4.0400000000000835"
        },
        {
         "0": "0.29333333333333333",
         "1": "6.799999999999999",
         "2": "15.21",
         "3": "4.0400000000000835"
        },
        {
         "0": "0.35111111111111115",
         "1": "6.799999999999999",
         "2": "15.21",
         "3": "4.0400000000000835"
        },
        {
         "0": "0.4088888888888889",
         "1": "6.799999999999999",
         "2": "15.21",
         "3": "4.0400000000000835"
        },
        {
         "0": "0.4666666666666667",
         "1": "6.799999999999999",
         "2": "15.21",
         "3": "4.0400000000000835"
        },
        {
         "0": "0.5244444444444445",
         "1": "6.799999999999999",
         "2": "15.21",
         "3": "4.0400000000000835"
        },
        {
         "0": "0.5822222222222222",
         "1": "6.799999999999999",
         "2": "15.21",
         "3": "4.0400000000000835"
        },
        {
         "0": "0.64",
         "1": "6.799999999999999",
         "2": "15.21",
         "3": "4.0400000000000835"
        },
        {
         "0": "0.12",
         "1": "6.799999999999999",
         "2": "15.21",
         "3": "4.0400000000000835"
        },
        {
         "0": "0.17777777777777778",
         "1": "6.799999999999999",
         "2": "15.21",
         "3": "4.0400000000000835"
        },
        {
         "0": "0.23555555555555557",
         "1": "6.799999999999999",
         "2": "15.21",
         "3": "4.0400000000000835"
        },
        {
         "0": "0.29333333333333333",
         "1": "6.799999999999999",
         "2": "15.21",
         "3": "4.0400000000000835"
        },
        {
         "0": "0.35111111111111115",
         "1": "6.799999999999999",
         "2": "15.21",
         "3": "4.0400000000000835"
        },
        {
         "0": "0.4088888888888889",
         "1": "3.5",
         "2": "0.6266666666666665",
         "3": "3.26469999999999"
        },
        {
         "0": "0.4666666666666667",
         "1": "3.5",
         "2": "0.6266666666666665",
         "3": "3.26469999999999"
        },
        {
         "0": "0.5244444444444445",
         "1": "3.5",
         "2": "0.6266666666666665",
         "3": "3.26469999999999"
        },
        {
         "0": "0.5822222222222222",
         "1": "3.5",
         "2": "0.6266666666666665",
         "3": "3.26469999999999"
        },
        {
         "0": "0.64",
         "1": "3.5",
         "2": "0.6266666666666665",
         "3": "3.26469999999999"
        },
        {
         "0": "0.12",
         "1": "3.5",
         "2": "0.6266666666666665",
         "3": "2.6092000000000284"
        },
        {
         "0": "0.17777777777777778",
         "1": "3.5",
         "2": "0.6266666666666665",
         "3": "2.6092000000000284"
        },
        {
         "0": "0.23555555555555557",
         "1": "3.5",
         "2": "0.6266666666666665",
         "3": "2.6092000000000284"
        },
        {
         "0": "0.29333333333333333",
         "1": "3.5",
         "2": "0.6266666666666665",
         "3": "2.6092000000000284"
        },
        {
         "0": "0.35111111111111115",
         "1": "3.5",
         "2": "0.6266666666666665",
         "3": "2.6092000000000284"
        },
        {
         "0": "0.4088888888888889",
         "1": "3.5",
         "2": "0.6266666666666665",
         "3": "2.6092000000000284"
        },
        {
         "0": "0.4666666666666667",
         "1": "3.5",
         "2": "0.6266666666666665",
         "3": "2.6092000000000284"
        },
        {
         "0": "0.5244444444444445",
         "1": "3.5",
         "2": "0.6266666666666665",
         "3": "2.6092000000000284"
        },
        {
         "0": "0.5822222222222222",
         "1": "3.5",
         "2": "0.6266666666666665",
         "3": "2.6092000000000284"
        },
        {
         "0": "0.64",
         "1": "3.5",
         "2": "0.6266666666666665",
         "3": "2.6092000000000284"
        },
        {
         "0": "0.12",
         "1": "3.5",
         "2": "0.6266666666666665",
         "3": "2.6400000000000303"
        },
        {
         "0": "0.17777777777777778",
         "1": "3.5",
         "2": "0.6266666666666665",
         "3": "2.6400000000000303"
        },
        {
         "0": "0.23555555555555557",
         "1": "3.5",
         "2": "0.6266666666666665",
         "3": "2.6400000000000303"
        },
        {
         "0": "0.29333333333333333",
         "1": "3.5",
         "2": "0.6266666666666665",
         "3": "2.6400000000000303"
        },
        {
         "0": "0.35111111111111115",
         "1": "3.5",
         "2": "0.6266666666666665",
         "3": "2.6400000000000303"
        },
        {
         "0": "0.4088888888888889",
         "1": "3.5",
         "2": "0.6266666666666665",
         "3": "2.6400000000000303"
        },
        {
         "0": "0.4666666666666667",
         "1": "3.5",
         "2": "0.6266666666666665",
         "3": "2.6400000000000303"
        },
        {
         "0": "0.5244444444444445",
         "1": "3.5",
         "2": "0.6266666666666665",
         "3": "2.6400000000000303"
        },
        {
         "0": "0.5822222222222222",
         "1": "3.5",
         "2": "0.6266666666666665",
         "3": "2.6400000000000303"
        },
        {
         "0": "0.64",
         "1": "3.5",
         "2": "0.6266666666666665",
         "3": "2.6400000000000303"
        },
        {
         "0": "0.12",
         "1": "3.5",
         "2": "0.6266666666666665",
         "3": "2.6400000000000303"
        },
        {
         "0": "0.17777777777777778",
         "1": "3.5",
         "2": "0.6266666666666665",
         "3": "2.6400000000000303"
        },
        {
         "0": "0.23555555555555557",
         "1": "3.5",
         "2": "0.6266666666666665",
         "3": "2.6400000000000303"
        },
        {
         "0": "0.29333333333333333",
         "1": "3.5",
         "2": "0.6266666666666665",
         "3": "2.6400000000000303"
        },
        {
         "0": "0.35111111111111115",
         "1": "3.5",
         "2": "0.6266666666666665",
         "3": "2.6400000000000303"
        },
        {
         "0": "0.4088888888888889",
         "1": "3.5",
         "2": "0.6266666666666665",
         "3": "2.6400000000000303"
        },
        {
         "0": "0.4666666666666667",
         "1": "3.5",
         "2": "0.6266666666666665",
         "3": "2.6400000000000303"
        },
        {
         "0": "0.5244444444444445",
         "1": "3.5",
         "2": "0.6266666666666665",
         "3": "2.6400000000000303"
        },
        {
         "0": "0.5822222222222222",
         "1": "3.5",
         "2": "0.6266666666666665",
         "3": "2.6400000000000303"
        },
        {
         "0": "0.64",
         "1": "3.5",
         "2": "0.6266666666666665",
         "3": "2.6400000000000303"
        },
        {
         "0": "0.12",
         "1": "3.5",
         "2": "0.6266666666666665",
         "3": "1.4102000000000225"
        },
        {
         "0": "0.17777777777777778",
         "1": "3.5",
         "2": "0.6266666666666665",
         "3": "1.4102000000000225"
        },
        {
         "0": "0.23555555555555557",
         "1": "3.5",
         "2": "0.6266666666666665",
         "3": "1.4102000000000225"
        },
        {
         "0": "0.29333333333333333",
         "1": "3.5",
         "2": "0.6266666666666665",
         "3": "1.4102000000000225"
        },
        {
         "0": "0.35111111111111115",
         "1": "3.5",
         "2": "0.6266666666666665",
         "3": "1.4102000000000225"
        },
        {
         "0": "0.4088888888888889",
         "1": "3.5",
         "2": "0.6266666666666665",
         "3": "1.4102000000000225"
        },
        {
         "0": "0.4666666666666667",
         "1": "3.5",
         "2": "0.6266666666666665",
         "3": "1.4102000000000225"
        },
        {
         "0": "0.5244444444444445",
         "1": "3.5",
         "2": "0.6266666666666665",
         "3": "1.4102000000000225"
        },
        {
         "0": "0.5822222222222222",
         "1": "3.5",
         "2": "0.6266666666666665",
         "3": "1.4102000000000225"
        },
        {
         "0": "0.64",
         "1": "3.5",
         "2": "0.6266666666666665",
         "3": "1.4102000000000225"
        },
        {
         "0": "0.12",
         "1": "3.5",
         "2": "0.6266666666666665",
         "3": "1.4102000000000225"
        },
        {
         "0": "0.17777777777777778",
         "1": "3.5",
         "2": "0.6266666666666665",
         "3": "1.4102000000000225"
        },
        {
         "0": "0.23555555555555557",
         "1": "3.5",
         "2": "0.6266666666666665",
         "3": "1.4102000000000225"
        },
        {
         "0": "0.29333333333333333",
         "1": "3.5",
         "2": "0.6266666666666665",
         "3": "1.4102000000000225"
        },
        {
         "0": "0.35111111111111115",
         "1": "3.5",
         "2": "0.6266666666666665",
         "3": "1.4102000000000225"
        },
        {
         "0": "0.4088888888888889",
         "1": "3.5",
         "2": "0.6266666666666665",
         "3": "1.4102000000000225"
        },
        {
         "0": "0.4666666666666667",
         "1": "3.5",
         "2": "0.6266666666666665",
         "3": "1.4102000000000225"
        },
        {
         "0": "0.5244444444444445",
         "1": "3.5",
         "2": "0.6266666666666665",
         "3": "1.4102000000000225"
        },
        {
         "0": "0.5822222222222222",
         "1": "3.5",
         "2": "0.6266666666666665",
         "3": "1.4102000000000225"
        },
        {
         "0": "0.64",
         "1": "3.5",
         "2": "0.6266666666666665",
         "3": "1.4102000000000225"
        },
        {
         "0": "0.12",
         "1": "3.5",
         "2": "0.6266666666666665",
         "3": "1.4102000000000225"
        },
        {
         "0": "0.17777777777777778",
         "1": "3.5",
         "2": "0.6266666666666665",
         "3": "1.4102000000000225"
        },
        {
         "0": "0.23555555555555557",
         "1": "3.5",
         "2": "0.6266666666666665",
         "3": "1.4102000000000225"
        },
        {
         "0": "0.29333333333333333",
         "1": "3.5",
         "2": "0.6266666666666665",
         "3": "1.4102000000000225"
        },
        {
         "0": "0.35111111111111115",
         "1": "3.5",
         "2": "0.6266666666666665",
         "3": "1.4102000000000225"
        },
        {
         "0": "0.4088888888888889",
         "1": "3.5",
         "2": "0.6266666666666665",
         "3": "1.4102000000000225"
        },
        {
         "0": "0.4666666666666667",
         "1": "3.5",
         "2": "0.6266666666666665",
         "3": "1.4102000000000225"
        },
        {
         "0": "0.5244444444444445",
         "1": "3.5",
         "2": "0.6266666666666665",
         "3": "1.4102000000000225"
        },
        {
         "0": "0.5822222222222222",
         "1": "3.5",
         "2": "0.6266666666666665",
         "3": "1.4102000000000225"
        },
        {
         "0": "0.64",
         "1": "3.5",
         "2": "0.6266666666666665",
         "3": "1.4102000000000225"
        },
        {
         "0": "0.12",
         "1": "3.5",
         "2": "0.6266666666666665",
         "3": "1.4102000000000225"
        },
        {
         "0": "0.17777777777777778",
         "1": "3.5",
         "2": "0.6266666666666665",
         "3": "1.4102000000000225"
        },
        {
         "0": "0.23555555555555557",
         "1": "3.5",
         "2": "0.6266666666666665",
         "3": "1.4102000000000225"
        },
        {
         "0": "0.29333333333333333",
         "1": "3.5",
         "2": "0.6266666666666665",
         "3": "1.4102000000000225"
        },
        {
         "0": "0.35111111111111115",
         "1": "3.5",
         "2": "0.6266666666666665",
         "3": "1.4102000000000225"
        },
        {
         "0": "0.4088888888888889",
         "1": "3.5",
         "2": "0.6266666666666665",
         "3": "1.4102000000000225"
        },
        {
         "0": "0.4666666666666667",
         "1": "3.5",
         "2": "0.6266666666666665",
         "3": "1.4102000000000225"
        },
        {
         "0": "0.5244444444444445",
         "1": "3.5",
         "2": "0.6266666666666665",
         "3": "1.4102000000000225"
        },
        {
         "0": "0.5822222222222222",
         "1": "3.5",
         "2": "0.6266666666666665",
         "3": "1.4102000000000225"
        },
        {
         "0": "0.64",
         "1": "3.5",
         "2": "0.6266666666666665",
         "3": "1.4102000000000225"
        },
        {
         "0": "0.12",
         "1": "4.16",
         "2": "3.543333333333333",
         "3": "3.3299999999999894"
        },
        {
         "0": "0.17777777777777778",
         "1": "4.16",
         "2": "3.543333333333333",
         "3": "3.3299999999999894"
        },
        {
         "0": "0.23555555555555557",
         "1": "4.16",
         "2": "3.543333333333333",
         "3": "3.3299999999999894"
        },
        {
         "0": "0.29333333333333333",
         "1": "4.16",
         "2": "3.543333333333333",
         "3": "3.3299999999999894"
        },
        {
         "0": "0.35111111111111115",
         "1": "4.16",
         "2": "3.543333333333333",
         "3": "3.3299999999999894"
        },
        {
         "0": "0.4088888888888889",
         "1": "4.16",
         "2": "3.543333333333333",
         "3": "3.3299999999999894"
        },
        {
         "0": "0.4666666666666667",
         "1": "4.16",
         "2": "3.543333333333333",
         "3": "3.3299999999999894"
        },
        {
         "0": "0.5244444444444445",
         "1": "4.16",
         "2": "3.543333333333333",
         "3": "3.3299999999999894"
        },
        {
         "0": "0.5822222222222222",
         "1": "4.16",
         "2": "3.543333333333333",
         "3": "3.3299999999999894"
        },
        {
         "0": "0.64",
         "1": "4.16",
         "2": "3.543333333333333",
         "3": "3.3299999999999894"
        },
        {
         "0": "0.12",
         "1": "4.16",
         "2": "3.543333333333333",
         "3": "3.3299999999999894"
        },
        {
         "0": "0.17777777777777778",
         "1": "4.16",
         "2": "3.543333333333333",
         "3": "3.3299999999999894"
        },
        {
         "0": "0.23555555555555557",
         "1": "4.16",
         "2": "3.543333333333333",
         "3": "3.3299999999999894"
        },
        {
         "0": "0.29333333333333333",
         "1": "4.16",
         "2": "3.543333333333333",
         "3": "3.3299999999999894"
        },
        {
         "0": "0.35111111111111115",
         "1": "4.16",
         "2": "3.543333333333333",
         "3": "3.3299999999999894"
        },
        {
         "0": "0.4088888888888889",
         "1": "4.16",
         "2": "3.543333333333333",
         "3": "3.3299999999999894"
        },
        {
         "0": "0.4666666666666667",
         "1": "4.16",
         "2": "3.543333333333333",
         "3": "3.3299999999999894"
        },
        {
         "0": "0.5244444444444445",
         "1": "4.16",
         "2": "3.543333333333333",
         "3": "3.3299999999999894"
        },
        {
         "0": "0.5822222222222222",
         "1": "4.16",
         "2": "3.543333333333333",
         "3": "3.3299999999999894"
        },
        {
         "0": "0.64",
         "1": "4.16",
         "2": "3.543333333333333",
         "3": "3.3299999999999894"
        },
        {
         "0": "0.12",
         "1": "4.16",
         "2": "3.543333333333333",
         "3": "3.2360999999999898"
        },
        {
         "0": "0.17777777777777778",
         "1": "4.16",
         "2": "3.543333333333333",
         "3": "3.2360999999999898"
        },
        {
         "0": "0.23555555555555557",
         "1": "4.16",
         "2": "3.543333333333333",
         "3": "3.2360999999999898"
        },
        {
         "0": "0.29333333333333333",
         "1": "4.16",
         "2": "3.543333333333333",
         "3": "3.2360999999999898"
        },
        {
         "0": "0.35111111111111115",
         "1": "4.16",
         "2": "3.543333333333333",
         "3": "3.2360999999999898"
        },
        {
         "0": "0.4088888888888889",
         "1": "4.16",
         "2": "3.543333333333333",
         "3": "3.2360999999999898"
        },
        {
         "0": "0.4666666666666667",
         "1": "4.16",
         "2": "3.543333333333333",
         "3": "3.2360999999999898"
        },
        {
         "0": "0.5244444444444445",
         "1": "4.16",
         "2": "3.543333333333333",
         "3": "3.2360999999999898"
        },
        {
         "0": "0.5822222222222222",
         "1": "4.16",
         "2": "3.543333333333333",
         "3": "3.2360999999999898"
        },
        {
         "0": "0.64",
         "1": "4.16",
         "2": "3.543333333333333",
         "3": "3.2360999999999898"
        },
        {
         "0": "0.12",
         "1": "4.16",
         "2": "3.543333333333333",
         "3": "2.5806000000000284"
        },
        {
         "0": "0.17777777777777778",
         "1": "4.16",
         "2": "3.543333333333333",
         "3": "2.5806000000000284"
        },
        {
         "0": "0.23555555555555557",
         "1": "4.16",
         "2": "3.543333333333333",
         "3": "2.5806000000000284"
        },
        {
         "0": "0.29333333333333333",
         "1": "4.16",
         "2": "3.543333333333333",
         "3": "2.5806000000000284"
        },
        {
         "0": "0.35111111111111115",
         "1": "4.16",
         "2": "3.543333333333333",
         "3": "2.5806000000000284"
        },
        {
         "0": "0.4088888888888889",
         "1": "4.16",
         "2": "3.543333333333333",
         "3": "2.5806000000000284"
        },
        {
         "0": "0.4666666666666667",
         "1": "4.16",
         "2": "3.543333333333333",
         "3": "2.5806000000000284"
        },
        {
         "0": "0.5244444444444445",
         "1": "4.16",
         "2": "3.543333333333333",
         "3": "2.5806000000000284"
        },
        {
         "0": "0.5822222222222222",
         "1": "4.16",
         "2": "3.543333333333333",
         "3": "2.5806000000000284"
        },
        {
         "0": "0.64",
         "1": "4.16",
         "2": "3.543333333333333",
         "3": "2.5806000000000284"
        },
        {
         "0": "0.12",
         "1": "4.16",
         "2": "3.543333333333333",
         "3": "2.59710000000003"
        },
        {
         "0": "0.17777777777777778",
         "1": "4.16",
         "2": "3.543333333333333",
         "3": "2.59710000000003"
        },
        {
         "0": "0.23555555555555557",
         "1": "4.16",
         "2": "3.543333333333333",
         "3": "2.59710000000003"
        },
        {
         "0": "0.29333333333333333",
         "1": "4.16",
         "2": "3.543333333333333",
         "3": "2.59710000000003"
        },
        {
         "0": "0.35111111111111115",
         "1": "4.16",
         "2": "3.543333333333333",
         "3": "2.59710000000003"
        },
        {
         "0": "0.4088888888888889",
         "1": "4.16",
         "2": "3.543333333333333",
         "3": "2.59710000000003"
        },
        {
         "0": "0.4666666666666667",
         "1": "4.16",
         "2": "3.543333333333333",
         "3": "2.59710000000003"
        },
        {
         "0": "0.5244444444444445",
         "1": "4.16",
         "2": "3.543333333333333",
         "3": "2.59710000000003"
        },
        {
         "0": "0.5822222222222222",
         "1": "4.16",
         "2": "3.543333333333333",
         "3": "2.59710000000003"
        },
        {
         "0": "0.64",
         "1": "4.16",
         "2": "3.543333333333333",
         "3": "2.59710000000003"
        },
        {
         "0": "0.4088888888888889",
         "1": "4.819999999999999",
         "2": "6.46",
         "3": "1.2100000000000222"
        },
        {
         "0": "0.4666666666666667",
         "1": "4.819999999999999",
         "2": "6.46",
         "3": "1.2100000000000222"
        },
        {
         "0": "0.5244444444444445",
         "1": "4.819999999999999",
         "2": "6.46",
         "3": "1.2100000000000222"
        },
        {
         "0": "0.5822222222222222",
         "1": "4.819999999999999",
         "2": "6.46",
         "3": "1.2100000000000222"
        },
        {
         "0": "0.64",
         "1": "4.819999999999999",
         "2": "6.46",
         "3": "1.2100000000000222"
        },
        {
         "0": "0.12",
         "1": "4.819999999999999",
         "2": "6.46",
         "3": "1.2100000000000222"
        },
        {
         "0": "0.17777777777777778",
         "1": "4.819999999999999",
         "2": "6.46",
         "3": "1.2100000000000222"
        },
        {
         "0": "0.23555555555555557",
         "1": "4.819999999999999",
         "2": "6.46",
         "3": "1.2100000000000222"
        },
        {
         "0": "0.29333333333333333",
         "1": "4.819999999999999",
         "2": "6.46",
         "3": "1.2100000000000222"
        },
        {
         "0": "0.35111111111111115",
         "1": "4.819999999999999",
         "2": "6.46",
         "3": "1.2100000000000222"
        },
        {
         "0": "0.4088888888888889",
         "1": "4.819999999999999",
         "2": "6.46",
         "3": "1.2100000000000222"
        },
        {
         "0": "0.4666666666666667",
         "1": "4.819999999999999",
         "2": "6.46",
         "3": "1.2100000000000222"
        },
        {
         "0": "0.5244444444444445",
         "1": "4.819999999999999",
         "2": "6.46",
         "3": "1.2100000000000222"
        },
        {
         "0": "0.5822222222222222",
         "1": "4.819999999999999",
         "2": "6.46",
         "3": "1.2100000000000222"
        },
        {
         "0": "0.64",
         "1": "4.819999999999999",
         "2": "6.46",
         "3": "1.2100000000000222"
        },
        {
         "0": "0.12",
         "1": "4.819999999999999",
         "2": "6.46",
         "3": "1.2100000000000222"
        },
        {
         "0": "0.17777777777777778",
         "1": "4.819999999999999",
         "2": "6.46",
         "3": "1.2100000000000222"
        },
        {
         "0": "0.23555555555555557",
         "1": "4.819999999999999",
         "2": "6.46",
         "3": "1.2100000000000222"
        },
        {
         "0": "0.29333333333333333",
         "1": "4.819999999999999",
         "2": "6.46",
         "3": "1.2100000000000222"
        },
        {
         "0": "0.35111111111111115",
         "1": "4.819999999999999",
         "2": "6.46",
         "3": "1.2100000000000222"
        },
        {
         "0": "0.4088888888888889",
         "1": "4.819999999999999",
         "2": "6.46",
         "3": "1.2100000000000222"
        },
        {
         "0": "0.4666666666666667",
         "1": "4.819999999999999",
         "2": "6.46",
         "3": "1.2100000000000222"
        },
        {
         "0": "0.5244444444444445",
         "1": "4.819999999999999",
         "2": "6.46",
         "3": "1.2100000000000222"
        },
        {
         "0": "0.5822222222222222",
         "1": "4.819999999999999",
         "2": "6.46",
         "3": "1.2100000000000222"
        },
        {
         "0": "0.64",
         "1": "4.819999999999999",
         "2": "6.46",
         "3": "1.2100000000000222"
        },
        {
         "0": "0.12",
         "1": "5.4799999999999995",
         "2": "9.376666666666665",
         "3": "4.0400000000000835"
        },
        {
         "0": "0.17777777777777778",
         "1": "5.4799999999999995",
         "2": "9.376666666666665",
         "3": "4.0400000000000835"
        },
        {
         "0": "0.23555555555555557",
         "1": "5.4799999999999995",
         "2": "9.376666666666665",
         "3": "4.0400000000000835"
        },
        {
         "0": "0.29333333333333333",
         "1": "5.4799999999999995",
         "2": "9.376666666666665",
         "3": "4.0400000000000835"
        },
        {
         "0": "0.35111111111111115",
         "1": "5.4799999999999995",
         "2": "9.376666666666665",
         "3": "4.0400000000000835"
        },
        {
         "0": "0.4088888888888889",
         "1": "5.4799999999999995",
         "2": "9.376666666666665",
         "3": "4.0400000000000835"
        },
        {
         "0": "0.4666666666666667",
         "1": "5.4799999999999995",
         "2": "9.376666666666665",
         "3": "4.0400000000000835"
        },
        {
         "0": "0.5244444444444445",
         "1": "5.4799999999999995",
         "2": "9.376666666666665",
         "3": "4.0400000000000835"
        },
        {
         "0": "0.5822222222222222",
         "1": "5.4799999999999995",
         "2": "9.376666666666665",
         "3": "4.0400000000000835"
        },
        {
         "0": "0.64",
         "1": "5.4799999999999995",
         "2": "9.376666666666665",
         "3": "4.0400000000000835"
        },
        {
         "0": "0.12",
         "1": "5.4799999999999995",
         "2": "9.376666666666665",
         "3": "4.0400000000000835"
        },
        {
         "0": "0.17777777777777778",
         "1": "5.4799999999999995",
         "2": "9.376666666666665",
         "3": "4.0400000000000835"
        },
        {
         "0": "0.23555555555555557",
         "1": "5.4799999999999995",
         "2": "9.376666666666665",
         "3": "4.0400000000000835"
        },
        {
         "0": "0.29333333333333333",
         "1": "5.4799999999999995",
         "2": "9.376666666666665",
         "3": "4.0400000000000835"
        },
        {
         "0": "0.35111111111111115",
         "1": "5.4799999999999995",
         "2": "9.376666666666665",
         "3": "4.0400000000000835"
        },
        {
         "0": "0.4088888888888889",
         "1": "5.4799999999999995",
         "2": "9.376666666666665",
         "3": "4.0400000000000835"
        },
        {
         "0": "0.4666666666666667",
         "1": "5.4799999999999995",
         "2": "9.376666666666665",
         "3": "4.0400000000000835"
        },
        {
         "0": "0.5244444444444445",
         "1": "5.4799999999999995",
         "2": "9.376666666666665",
         "3": "4.0400000000000835"
        },
        {
         "0": "0.5822222222222222",
         "1": "5.4799999999999995",
         "2": "9.376666666666665",
         "3": "4.0400000000000835"
        },
        {
         "0": "0.64",
         "1": "5.4799999999999995",
         "2": "9.376666666666665",
         "3": "4.0400000000000835"
        },
        {
         "0": "0.12",
         "1": "5.4799999999999995",
         "2": "9.376666666666665",
         "3": "4.0400000000000835"
        },
        {
         "0": "0.17777777777777778",
         "1": "5.4799999999999995",
         "2": "9.376666666666665",
         "3": "4.0400000000000835"
        },
        {
         "0": "0.23555555555555557",
         "1": "5.4799999999999995",
         "2": "9.376666666666665",
         "3": "4.0400000000000835"
        },
        {
         "0": "0.29333333333333333",
         "1": "5.4799999999999995",
         "2": "9.376666666666665",
         "3": "4.0400000000000835"
        },
        {
         "0": "0.35111111111111115",
         "1": "5.4799999999999995",
         "2": "9.376666666666665",
         "3": "4.0400000000000835"
        },
        {
         "0": "0.4088888888888889",
         "1": "5.4799999999999995",
         "2": "9.376666666666665",
         "3": "4.0400000000000835"
        },
        {
         "0": "0.4666666666666667",
         "1": "5.4799999999999995",
         "2": "9.376666666666665",
         "3": "4.0400000000000835"
        },
        {
         "0": "0.5244444444444445",
         "1": "5.4799999999999995",
         "2": "9.376666666666665",
         "3": "4.0400000000000835"
        },
        {
         "0": "0.5822222222222222",
         "1": "5.4799999999999995",
         "2": "9.376666666666665",
         "3": "4.0400000000000835"
        },
        {
         "0": "0.64",
         "1": "5.4799999999999995",
         "2": "9.376666666666665",
         "3": "4.0400000000000835"
        },
        {
         "0": "0.12",
         "1": "5.4799999999999995",
         "2": "9.376666666666665",
         "3": "4.0400000000000835"
        },
        {
         "0": "0.17777777777777778",
         "1": "5.4799999999999995",
         "2": "9.376666666666665",
         "3": "4.0400000000000835"
        },
        {
         "0": "0.23555555555555557",
         "1": "5.4799999999999995",
         "2": "9.376666666666665",
         "3": "4.0400000000000835"
        },
        {
         "0": "0.29333333333333333",
         "1": "5.4799999999999995",
         "2": "9.376666666666665",
         "3": "4.0400000000000835"
        },
        {
         "0": "0.35111111111111115",
         "1": "5.4799999999999995",
         "2": "9.376666666666665",
         "3": "4.0400000000000835"
        },
        {
         "0": "0.4088888888888889",
         "1": "5.4799999999999995",
         "2": "9.376666666666665",
         "3": "4.0400000000000835"
        },
        {
         "0": "0.4666666666666667",
         "1": "5.4799999999999995",
         "2": "9.376666666666665",
         "3": "4.0400000000000835"
        },
        {
         "0": "0.5244444444444445",
         "1": "5.4799999999999995",
         "2": "9.376666666666665",
         "3": "4.0400000000000835"
        },
        {
         "0": "0.5822222222222222",
         "1": "5.4799999999999995",
         "2": "9.376666666666665",
         "3": "4.0400000000000835"
        },
        {
         "0": "0.64",
         "1": "5.4799999999999995",
         "2": "9.376666666666665",
         "3": "4.0400000000000835"
        },
        {
         "0": "0.12",
         "1": "5.4799999999999995",
         "2": "9.376666666666665",
         "3": "2.9137515211288814"
        },
        {
         "0": "0.17777777777777778",
         "1": "5.4799999999999995",
         "2": "9.376666666666665",
         "3": "2.9137515211288814"
        },
        {
         "0": "0.23555555555555557",
         "1": "5.4799999999999995",
         "2": "9.376666666666665",
         "3": "2.9137515211288814"
        },
        {
         "0": "0.29333333333333333",
         "1": "5.4799999999999995",
         "2": "9.376666666666665",
         "3": "2.9137515211288814"
        },
        {
         "0": "0.35111111111111115",
         "1": "5.4799999999999995",
         "2": "9.376666666666665",
         "3": "2.9137515211288814"
        },
        {
         "0": "0.4088888888888889",
         "1": "5.4799999999999995",
         "2": "9.376666666666665",
         "3": "2.9137515211288814"
        },
        {
         "0": "0.4666666666666667",
         "1": "5.4799999999999995",
         "2": "9.376666666666665",
         "3": "2.9137515211288814"
        },
        {
         "0": "0.5244444444444445",
         "1": "5.4799999999999995",
         "2": "9.376666666666665",
         "3": "2.9137515211288814"
        },
        {
         "0": "0.5822222222222222",
         "1": "5.4799999999999995",
         "2": "9.376666666666665",
         "3": "2.9137515211288814"
        },
        {
         "0": "0.64",
         "1": "5.4799999999999995",
         "2": "9.376666666666665",
         "3": "2.9137515211288814"
        },
        {
         "0": "0.12",
         "1": "5.4799999999999995",
         "2": "9.376666666666665",
         "3": "2.9137515211288814"
        },
        {
         "0": "0.17777777777777778",
         "1": "5.4799999999999995",
         "2": "9.376666666666665",
         "3": "2.9137515211288814"
        },
        {
         "0": "0.23555555555555557",
         "1": "5.4799999999999995",
         "2": "9.376666666666665",
         "3": "2.9137515211288814"
        },
        {
         "0": "0.29333333333333333",
         "1": "5.4799999999999995",
         "2": "9.376666666666665",
         "3": "2.9137515211288814"
        },
        {
         "0": "0.35111111111111115",
         "1": "5.4799999999999995",
         "2": "9.376666666666665",
         "3": "2.9137515211288814"
        },
        {
         "0": "0.4088888888888889",
         "1": "5.4799999999999995",
         "2": "9.376666666666665",
         "3": "2.9137515211288814"
        },
        {
         "0": "0.4666666666666667",
         "1": "5.4799999999999995",
         "2": "9.376666666666665",
         "3": "2.9137515211288814"
        },
        {
         "0": "0.5244444444444445",
         "1": "5.4799999999999995",
         "2": "9.376666666666665",
         "3": "2.9137515211288814"
        },
        {
         "0": "0.5822222222222222",
         "1": "5.4799999999999995",
         "2": "9.376666666666665",
         "3": "2.9137515211288814"
        },
        {
         "0": "0.64",
         "1": "5.4799999999999995",
         "2": "9.376666666666665",
         "3": "2.9137515211288814"
        },
        {
         "0": "0.12",
         "1": "5.4799999999999995",
         "2": "9.376666666666665",
         "3": "2.9137515211288814"
        },
        {
         "0": "0.17777777777777778",
         "1": "5.4799999999999995",
         "2": "9.376666666666665",
         "3": "2.9137515211288814"
        },
        {
         "0": "0.23555555555555557",
         "1": "5.4799999999999995",
         "2": "9.376666666666665",
         "3": "2.9137515211288814"
        },
        {
         "0": "0.29333333333333333",
         "1": "5.4799999999999995",
         "2": "9.376666666666665",
         "3": "2.9137515211288814"
        },
        {
         "0": "0.35111111111111115",
         "1": "5.4799999999999995",
         "2": "9.376666666666665",
         "3": "2.9137515211288814"
        },
        {
         "0": "0.4088888888888889",
         "1": "5.4799999999999995",
         "2": "9.376666666666665",
         "3": "2.9137515211288814"
        },
        {
         "0": "0.4666666666666667",
         "1": "5.4799999999999995",
         "2": "9.376666666666665",
         "3": "2.9137515211288814"
        },
        {
         "0": "0.5244444444444445",
         "1": "5.4799999999999995",
         "2": "9.376666666666665",
         "3": "2.9137515211288814"
        },
        {
         "0": "0.5822222222222222",
         "1": "5.4799999999999995",
         "2": "9.376666666666665",
         "3": "2.9137515211288814"
        },
        {
         "0": "0.64",
         "1": "5.4799999999999995",
         "2": "9.376666666666665",
         "3": "2.9137515211288814"
        },
        {
         "0": "0.12",
         "1": "5.4799999999999995",
         "2": "9.376666666666665",
         "3": "2.9137515211288814"
        },
        {
         "0": "0.17777777777777778",
         "1": "5.4799999999999995",
         "2": "9.376666666666665",
         "3": "2.9137515211288814"
        },
        {
         "0": "0.23555555555555557",
         "1": "5.4799999999999995",
         "2": "9.376666666666665",
         "3": "2.9137515211288814"
        },
        {
         "0": "0.29333333333333333",
         "1": "5.4799999999999995",
         "2": "9.376666666666665",
         "3": "2.9137515211288814"
        },
        {
         "0": "0.35111111111111115",
         "1": "5.4799999999999995",
         "2": "9.376666666666665",
         "3": "2.9137515211288814"
        },
        {
         "0": "0.4088888888888889",
         "1": "5.4799999999999995",
         "2": "9.376666666666665",
         "3": "2.9137515211288814"
        },
        {
         "0": "0.4666666666666667",
         "1": "5.4799999999999995",
         "2": "9.376666666666665",
         "3": "2.9137515211288814"
        },
        {
         "0": "0.5244444444444445",
         "1": "5.4799999999999995",
         "2": "9.376666666666665",
         "3": "2.9137515211288814"
        },
        {
         "0": "0.5822222222222222",
         "1": "5.4799999999999995",
         "2": "9.376666666666665",
         "3": "2.9137515211288814"
        },
        {
         "0": "0.64",
         "1": "5.4799999999999995",
         "2": "9.376666666666665",
         "3": "2.9137515211288814"
        },
        {
         "0": "0.12",
         "1": "5.4799999999999995",
         "2": "9.376666666666665",
         "3": "3.036165238961305"
        },
        {
         "0": "0.17777777777777778",
         "1": "5.4799999999999995",
         "2": "9.376666666666665",
         "3": "3.036165238961305"
        },
        {
         "0": "0.23555555555555557",
         "1": "5.4799999999999995",
         "2": "9.376666666666665",
         "3": "3.036165238961305"
        },
        {
         "0": "0.29333333333333333",
         "1": "5.4799999999999995",
         "2": "9.376666666666665",
         "3": "3.036165238961305"
        },
        {
         "0": "0.35111111111111115",
         "1": "5.4799999999999995",
         "2": "9.376666666666665",
         "3": "2.470365238961327"
        },
        {
         "0": "0.4088888888888889",
         "1": "5.4799999999999995",
         "2": "9.376666666666665",
         "3": "2.470365238961327"
        },
        {
         "0": "0.4666666666666667",
         "1": "5.4799999999999995",
         "2": "9.376666666666665",
         "3": "2.470365238961327"
        },
        {
         "0": "0.5244444444444445",
         "1": "5.4799999999999995",
         "2": "9.376666666666665",
         "3": "2.470365238961327"
        },
        {
         "0": "0.5822222222222222",
         "1": "5.4799999999999995",
         "2": "9.376666666666665",
         "3": "2.470365238961327"
        },
        {
         "0": "0.64",
         "1": "5.4799999999999995",
         "2": "9.376666666666665",
         "3": "2.470365238961327"
        },
        {
         "0": "0.12",
         "1": "5.4799999999999995",
         "2": "9.376666666666665",
         "3": "3.0499652389613043"
        },
        {
         "0": "0.17777777777777778",
         "1": "5.4799999999999995",
         "2": "9.376666666666665",
         "3": "3.0499652389613043"
        },
        {
         "0": "0.23555555555555557",
         "1": "5.4799999999999995",
         "2": "9.376666666666665",
         "3": "3.0499652389613043"
        },
        {
         "0": "0.29333333333333333",
         "1": "5.4799999999999995",
         "2": "9.376666666666665",
         "3": "3.0499652389613043"
        },
        {
         "0": "0.35111111111111115",
         "1": "5.4799999999999995",
         "2": "9.376666666666665",
         "3": "2.4841652389613262"
        },
        {
         "0": "0.4088888888888889",
         "1": "5.4799999999999995",
         "2": "9.376666666666665",
         "3": "2.4841652389613262"
        },
        {
         "0": "0.4666666666666667",
         "1": "5.4799999999999995",
         "2": "9.376666666666665",
         "3": "2.4841652389613262"
        },
        {
         "0": "0.5244444444444445",
         "1": "5.4799999999999995",
         "2": "9.376666666666665",
         "3": "2.4841652389613262"
        },
        {
         "0": "0.5822222222222222",
         "1": "5.4799999999999995",
         "2": "9.376666666666665",
         "3": "2.4841652389613262"
        },
        {
         "0": "0.64",
         "1": "5.4799999999999995",
         "2": "9.376666666666665",
         "3": "2.4841652389613262"
        },
        {
         "0": "0.4088888888888889",
         "1": "8.12",
         "2": "21.043333333333333",
         "3": "2.303386282167519"
        },
        {
         "0": "0.4666666666666667",
         "1": "8.12",
         "2": "21.043333333333333",
         "3": "2.303386282167519"
        },
        {
         "0": "0.5244444444444445",
         "1": "8.12",
         "2": "21.043333333333333",
         "3": "2.303386282167519"
        },
        {
         "0": "0.5822222222222222",
         "1": "8.12",
         "2": "21.043333333333333",
         "3": "2.303386282167519"
        },
        {
         "0": "0.64",
         "1": "8.12",
         "2": "21.043333333333333",
         "3": "2.303386282167519"
        },
        {
         "0": "0.12",
         "1": "8.12",
         "2": "21.043333333333333",
         "3": "3.22619999999991"
        },
        {
         "0": "0.17777777777777778",
         "1": "8.12",
         "2": "21.043333333333333",
         "3": "3.22619999999991"
        },
        {
         "0": "0.23555555555555557",
         "1": "8.12",
         "2": "21.043333333333333",
         "3": "3.22619999999991"
        },
        {
         "0": "0.29333333333333333",
         "1": "8.12",
         "2": "21.043333333333333",
         "3": "3.22619999999991"
        },
        {
         "0": "0.35111111111111115",
         "1": "8.12",
         "2": "21.043333333333333",
         "3": "1.8599999999999646"
        },
        {
         "0": "0.4088888888888889",
         "1": "8.12",
         "2": "21.043333333333333",
         "3": "1.8599999999999646"
        },
        {
         "0": "0.4666666666666667",
         "1": "8.12",
         "2": "21.043333333333333",
         "3": "1.8599999999999646"
        },
        {
         "0": "0.5244444444444445",
         "1": "8.12",
         "2": "21.043333333333333",
         "3": "1.8599999999999646"
        },
        {
         "0": "0.5822222222222222",
         "1": "8.12",
         "2": "21.043333333333333",
         "3": "1.8599999999999646"
        },
        {
         "0": "0.64",
         "1": "8.12",
         "2": "21.043333333333333",
         "3": "1.8599999999999646"
        },
        {
         "0": "0.12",
         "1": "8.12",
         "2": "21.043333333333333",
         "3": "3.239999999999909"
        },
        {
         "0": "0.17777777777777778",
         "1": "8.12",
         "2": "21.043333333333333",
         "3": "3.239999999999909"
        },
        {
         "0": "0.23555555555555557",
         "1": "8.12",
         "2": "21.043333333333333",
         "3": "3.239999999999909"
        },
        {
         "0": "0.29333333333333333",
         "1": "8.12",
         "2": "21.043333333333333",
         "3": "3.239999999999909"
        },
        {
         "0": "0.35111111111111115",
         "1": "8.12",
         "2": "21.043333333333333",
         "3": "1.873799999999964"
        },
        {
         "0": "0.4088888888888889",
         "1": "8.12",
         "2": "21.043333333333333",
         "3": "1.873799999999964"
        },
        {
         "0": "0.4666666666666667",
         "1": "8.12",
         "2": "21.043333333333333",
         "3": "1.873799999999964"
        },
        {
         "0": "0.5244444444444445",
         "1": "8.12",
         "2": "21.043333333333333",
         "3": "1.873799999999964"
        },
        {
         "0": "0.5822222222222222",
         "1": "8.12",
         "2": "21.043333333333333",
         "3": "1.873799999999964"
        },
        {
         "0": "0.64",
         "1": "8.12",
         "2": "21.043333333333333",
         "3": "1.873799999999964"
        },
        {
         "0": "0.12",
         "1": "8.78",
         "2": "23.96",
         "3": "4.0400000000000835"
        },
        {
         "0": "0.17777777777777778",
         "1": "8.78",
         "2": "23.96",
         "3": "4.0400000000000835"
        },
        {
         "0": "0.23555555555555557",
         "1": "8.78",
         "2": "23.96",
         "3": "4.0400000000000835"
        },
        {
         "0": "0.29333333333333333",
         "1": "8.78",
         "2": "23.96",
         "3": "4.0400000000000835"
        },
        {
         "0": "0.35111111111111115",
         "1": "8.78",
         "2": "23.96",
         "3": "4.0400000000000835"
        },
        {
         "0": "0.4088888888888889",
         "1": "8.78",
         "2": "23.96",
         "3": "4.0400000000000835"
        },
        {
         "0": "0.4666666666666667",
         "1": "8.78",
         "2": "23.96",
         "3": "4.0400000000000835"
        },
        {
         "0": "0.5244444444444445",
         "1": "8.78",
         "2": "23.96",
         "3": "4.0400000000000835"
        },
        {
         "0": "0.5822222222222222",
         "1": "8.78",
         "2": "23.96",
         "3": "4.0400000000000835"
        },
        {
         "0": "0.64",
         "1": "8.78",
         "2": "23.96",
         "3": "4.0400000000000835"
        },
        {
         "0": "0.12",
         "1": "8.78",
         "2": "23.96",
         "3": "4.0400000000000835"
        },
        {
         "0": "0.17777777777777778",
         "1": "8.78",
         "2": "23.96",
         "3": "4.0400000000000835"
        },
        {
         "0": "0.23555555555555557",
         "1": "8.78",
         "2": "23.96",
         "3": "4.0400000000000835"
        },
        {
         "0": "0.29333333333333333",
         "1": "8.78",
         "2": "23.96",
         "3": "4.0400000000000835"
        },
        {
         "0": "0.35111111111111115",
         "1": "8.78",
         "2": "23.96",
         "3": "4.0400000000000835"
        },
        {
         "0": "0.4088888888888889",
         "1": "8.78",
         "2": "23.96",
         "3": "4.0400000000000835"
        },
        {
         "0": "0.4666666666666667",
         "1": "8.78",
         "2": "23.96",
         "3": "4.0400000000000835"
        },
        {
         "0": "0.5244444444444445",
         "1": "8.78",
         "2": "23.96",
         "3": "4.0400000000000835"
        },
        {
         "0": "0.5822222222222222",
         "1": "8.78",
         "2": "23.96",
         "3": "4.0400000000000835"
        },
        {
         "0": "0.64",
         "1": "8.78",
         "2": "23.96",
         "3": "4.0400000000000835"
        },
        {
         "0": "0.12",
         "1": "8.78",
         "2": "23.96",
         "3": "4.0400000000000835"
        },
        {
         "0": "0.17777777777777778",
         "1": "8.78",
         "2": "23.96",
         "3": "4.0400000000000835"
        },
        {
         "0": "0.23555555555555557",
         "1": "8.78",
         "2": "23.96",
         "3": "4.0400000000000835"
        },
        {
         "0": "0.29333333333333333",
         "1": "8.78",
         "2": "23.96",
         "3": "4.0400000000000835"
        },
        {
         "0": "0.35111111111111115",
         "1": "8.78",
         "2": "23.96",
         "3": "4.0400000000000835"
        },
        {
         "0": "0.4088888888888889",
         "1": "8.78",
         "2": "23.96",
         "3": "4.0400000000000835"
        },
        {
         "0": "0.4666666666666667",
         "1": "8.78",
         "2": "23.96",
         "3": "4.0400000000000835"
        },
        {
         "0": "0.5244444444444445",
         "1": "8.78",
         "2": "23.96",
         "3": "4.0400000000000835"
        },
        {
         "0": "0.5822222222222222",
         "1": "8.78",
         "2": "23.96",
         "3": "4.0400000000000835"
        },
        {
         "0": "0.64",
         "1": "8.78",
         "2": "23.96",
         "3": "4.0400000000000835"
        },
        {
         "0": "0.12",
         "1": "8.78",
         "2": "23.96",
         "3": "4.0400000000000835"
        },
        {
         "0": "0.17777777777777778",
         "1": "8.78",
         "2": "23.96",
         "3": "4.0400000000000835"
        },
        {
         "0": "0.23555555555555557",
         "1": "8.78",
         "2": "23.96",
         "3": "4.0400000000000835"
        },
        {
         "0": "0.29333333333333333",
         "1": "8.78",
         "2": "23.96",
         "3": "4.0400000000000835"
        },
        {
         "0": "0.35111111111111115",
         "1": "8.78",
         "2": "23.96",
         "3": "4.0400000000000835"
        },
        {
         "0": "0.4088888888888889",
         "1": "8.78",
         "2": "23.96",
         "3": "4.0400000000000835"
        },
        {
         "0": "0.4666666666666667",
         "1": "8.78",
         "2": "23.96",
         "3": "4.0400000000000835"
        },
        {
         "0": "0.5244444444444445",
         "1": "8.78",
         "2": "23.96",
         "3": "4.0400000000000835"
        },
        {
         "0": "0.5822222222222222",
         "1": "8.78",
         "2": "23.96",
         "3": "4.0400000000000835"
        },
        {
         "0": "0.64",
         "1": "8.78",
         "2": "23.96",
         "3": "4.0400000000000835"
        },
        {
         "0": "0.12",
         "1": "8.78",
         "2": "23.96",
         "3": "3.1037862821674866"
        },
        {
         "0": "0.17777777777777778",
         "1": "8.78",
         "2": "23.96",
         "3": "3.1037862821674866"
        },
        {
         "0": "0.23555555555555557",
         "1": "8.78",
         "2": "23.96",
         "3": "3.1037862821674866"
        },
        {
         "0": "0.29333333333333333",
         "1": "8.78",
         "2": "23.96",
         "3": "3.1037862821674866"
        },
        {
         "0": "0.35111111111111115",
         "1": "8.78",
         "2": "23.96",
         "3": "2.303386282167519"
        },
        {
         "0": "0.4088888888888889",
         "1": "8.78",
         "2": "23.96",
         "3": "2.303386282167519"
        },
        {
         "0": "0.4666666666666667",
         "1": "8.78",
         "2": "23.96",
         "3": "2.303386282167519"
        },
        {
         "0": "0.5244444444444445",
         "1": "8.78",
         "2": "23.96",
         "3": "2.303386282167519"
        },
        {
         "0": "0.5822222222222222",
         "1": "8.78",
         "2": "23.96",
         "3": "2.303386282167519"
        },
        {
         "0": "0.64",
         "1": "8.78",
         "2": "23.96",
         "3": "2.303386282167519"
        },
        {
         "0": "0.12",
         "1": "8.78",
         "2": "23.96",
         "3": "3.1037862821674866"
        },
        {
         "0": "0.17777777777777778",
         "1": "8.78",
         "2": "23.96",
         "3": "3.1037862821674866"
        },
        {
         "0": "0.23555555555555557",
         "1": "8.78",
         "2": "23.96",
         "3": "3.1037862821674866"
        },
        {
         "0": "0.29333333333333333",
         "1": "8.78",
         "2": "23.96",
         "3": "3.1037862821674866"
        },
        {
         "0": "0.35111111111111115",
         "1": "8.78",
         "2": "23.96",
         "3": "2.303386282167519"
        },
        {
         "0": "0.4088888888888889",
         "1": "8.78",
         "2": "23.96",
         "3": "2.303386282167519"
        },
        {
         "0": "0.4666666666666667",
         "1": "8.78",
         "2": "23.96",
         "3": "2.303386282167519"
        },
        {
         "0": "0.5244444444444445",
         "1": "8.78",
         "2": "23.96",
         "3": "2.303386282167519"
        },
        {
         "0": "0.5822222222222222",
         "1": "8.78",
         "2": "23.96",
         "3": "2.303386282167519"
        },
        {
         "0": "0.64",
         "1": "8.78",
         "2": "23.96",
         "3": "2.303386282167519"
        },
        {
         "0": "0.12",
         "1": "8.78",
         "2": "23.96",
         "3": "3.1037862821674866"
        },
        {
         "0": "0.17777777777777778",
         "1": "8.78",
         "2": "23.96",
         "3": "3.1037862821674866"
        },
        {
         "0": "0.23555555555555557",
         "1": "8.78",
         "2": "23.96",
         "3": "3.1037862821674866"
        },
        {
         "0": "0.29333333333333333",
         "1": "8.78",
         "2": "23.96",
         "3": "3.1037862821674866"
        },
        {
         "0": "0.35111111111111115",
         "1": "8.78",
         "2": "23.96",
         "3": "2.303386282167519"
        },
        {
         "0": "0.4088888888888889",
         "1": "8.78",
         "2": "23.96",
         "3": "2.303386282167519"
        },
        {
         "0": "0.4666666666666667",
         "1": "8.78",
         "2": "23.96",
         "3": "2.303386282167519"
        },
        {
         "0": "0.5244444444444445",
         "1": "8.78",
         "2": "23.96",
         "3": "2.303386282167519"
        },
        {
         "0": "0.5822222222222222",
         "1": "8.78",
         "2": "23.96",
         "3": "2.303386282167519"
        },
        {
         "0": "0.64",
         "1": "8.78",
         "2": "23.96",
         "3": "2.303386282167519"
        },
        {
         "0": "0.12",
         "1": "8.78",
         "2": "23.96",
         "3": "3.1037862821674866"
        },
        {
         "0": "0.17777777777777778",
         "1": "8.78",
         "2": "23.96",
         "3": "3.1037862821674866"
        },
        {
         "0": "0.23555555555555557",
         "1": "8.78",
         "2": "23.96",
         "3": "3.1037862821674866"
        },
        {
         "0": "0.29333333333333333",
         "1": "8.78",
         "2": "23.96",
         "3": "3.1037862821674866"
        },
        {
         "0": "0.35111111111111115",
         "1": "8.78",
         "2": "23.96",
         "3": "2.303386282167519"
        },
        {
         "0": "0.4088888888888889",
         "1": "8.78",
         "2": "23.96",
         "3": "2.303386282167519"
        },
        {
         "0": "0.4666666666666667",
         "1": "8.78",
         "2": "23.96",
         "3": "2.303386282167519"
        },
        {
         "0": "0.5244444444444445",
         "1": "8.78",
         "2": "23.96",
         "3": "2.303386282167519"
        },
        {
         "0": "0.5822222222222222",
         "1": "8.78",
         "2": "23.96",
         "3": "2.303386282167519"
        },
        {
         "0": "0.64",
         "1": "8.78",
         "2": "23.96",
         "3": "2.303386282167519"
        },
        {
         "0": "0.12",
         "1": "8.78",
         "2": "23.96",
         "3": "3.22619999999991"
        },
        {
         "0": "0.17777777777777778",
         "1": "8.78",
         "2": "23.96",
         "3": "3.22619999999991"
        },
        {
         "0": "0.23555555555555557",
         "1": "8.78",
         "2": "23.96",
         "3": "3.22619999999991"
        },
        {
         "0": "0.29333333333333333",
         "1": "8.78",
         "2": "23.96",
         "3": "3.22619999999991"
        },
        {
         "0": "0.35111111111111115",
         "1": "8.78",
         "2": "23.96",
         "3": "1.8599999999999646"
        },
        {
         "0": "0.4088888888888889",
         "1": "8.78",
         "2": "23.96",
         "3": "1.8599999999999646"
        },
        {
         "0": "0.4666666666666667",
         "1": "8.78",
         "2": "23.96",
         "3": "1.8599999999999646"
        },
        {
         "0": "0.5244444444444445",
         "1": "8.78",
         "2": "23.96",
         "3": "1.8599999999999646"
        },
        {
         "0": "0.5822222222222222",
         "1": "8.78",
         "2": "23.96",
         "3": "1.8599999999999646"
        },
        {
         "0": "0.64",
         "1": "8.78",
         "2": "23.96",
         "3": "1.8599999999999646"
        },
        {
         "0": "0.12",
         "1": "8.78",
         "2": "23.96",
         "3": "3.239999999999909"
        },
        {
         "0": "0.17777777777777778",
         "1": "8.78",
         "2": "23.96",
         "3": "3.239999999999909"
        },
        {
         "0": "0.23555555555555557",
         "1": "8.78",
         "2": "23.96",
         "3": "3.239999999999909"
        },
        {
         "0": "0.29333333333333333",
         "1": "8.78",
         "2": "23.96",
         "3": "3.239999999999909"
        },
        {
         "0": "0.35111111111111115",
         "1": "8.78",
         "2": "23.96",
         "3": "1.873799999999964"
        },
        {
         "0": "0.4088888888888889",
         "1": "8.78",
         "2": "23.96",
         "3": "1.873799999999964"
        },
        {
         "0": "0.4666666666666667",
         "1": "8.78",
         "2": "23.96",
         "3": "1.873799999999964"
        },
        {
         "0": "0.5244444444444445",
         "1": "8.78",
         "2": "23.96",
         "3": "1.873799999999964"
        },
        {
         "0": "0.5822222222222222",
         "1": "8.78",
         "2": "23.96",
         "3": "1.873799999999964"
        },
        {
         "0": "0.64",
         "1": "8.78",
         "2": "23.96",
         "3": "1.873799999999964"
        },
        {
         "0": "0.12",
         "1": "4.16",
         "2": "3.543333333333333",
         "3": "2.59710000000003"
        },
        {
         "0": "0.17777777777777778",
         "1": "4.16",
         "2": "3.543333333333333",
         "3": "2.59710000000003"
        },
        {
         "0": "0.23555555555555557",
         "1": "4.16",
         "2": "3.543333333333333",
         "3": "2.59710000000003"
        },
        {
         "0": "0.29333333333333333",
         "1": "4.16",
         "2": "3.543333333333333",
         "3": "2.59710000000003"
        },
        {
         "0": "0.35111111111111115",
         "1": "4.16",
         "2": "3.543333333333333",
         "3": "2.59710000000003"
        },
        {
         "0": "0.4088888888888889",
         "1": "4.16",
         "2": "3.543333333333333",
         "3": "2.59710000000003"
        },
        {
         "0": "0.4666666666666667",
         "1": "4.16",
         "2": "3.543333333333333",
         "3": "2.59710000000003"
        },
        {
         "0": "0.5244444444444445",
         "1": "4.16",
         "2": "3.543333333333333",
         "3": "2.59710000000003"
        },
        {
         "0": "0.5822222222222222",
         "1": "4.16",
         "2": "3.543333333333333",
         "3": "2.59710000000003"
        },
        {
         "0": "0.64",
         "1": "4.16",
         "2": "3.543333333333333",
         "3": "2.59710000000003"
        },
        {
         "0": "0.12",
         "1": "4.16",
         "2": "3.543333333333333",
         "3": "1.3673000000000224"
        },
        {
         "0": "0.17777777777777778",
         "1": "4.16",
         "2": "3.543333333333333",
         "3": "1.3673000000000224"
        },
        {
         "0": "0.23555555555555557",
         "1": "4.16",
         "2": "3.543333333333333",
         "3": "1.3673000000000224"
        },
        {
         "0": "0.29333333333333333",
         "1": "4.16",
         "2": "3.543333333333333",
         "3": "1.3673000000000224"
        },
        {
         "0": "0.35111111111111115",
         "1": "4.16",
         "2": "3.543333333333333",
         "3": "1.3673000000000224"
        },
        {
         "0": "0.4088888888888889",
         "1": "4.16",
         "2": "3.543333333333333",
         "3": "1.3673000000000224"
        },
        {
         "0": "0.4666666666666667",
         "1": "4.16",
         "2": "3.543333333333333",
         "3": "1.3673000000000224"
        },
        {
         "0": "0.5244444444444445",
         "1": "4.16",
         "2": "3.543333333333333",
         "3": "1.3673000000000224"
        },
        {
         "0": "0.5822222222222222",
         "1": "4.16",
         "2": "3.543333333333333",
         "3": "1.3673000000000224"
        },
        {
         "0": "0.64",
         "1": "4.16",
         "2": "3.543333333333333",
         "3": "1.3673000000000224"
        },
        {
         "0": "0.12",
         "1": "4.16",
         "2": "3.543333333333333",
         "3": "1.3673000000000224"
        },
        {
         "0": "0.17777777777777778",
         "1": "4.16",
         "2": "3.543333333333333",
         "3": "1.3673000000000224"
        },
        {
         "0": "0.23555555555555557",
         "1": "4.16",
         "2": "3.543333333333333",
         "3": "1.3673000000000224"
        },
        {
         "0": "0.29333333333333333",
         "1": "4.16",
         "2": "3.543333333333333",
         "3": "1.3673000000000224"
        },
        {
         "0": "0.35111111111111115",
         "1": "4.16",
         "2": "3.543333333333333",
         "3": "1.3673000000000224"
        },
        {
         "0": "0.4088888888888889",
         "1": "4.16",
         "2": "3.543333333333333",
         "3": "1.3673000000000224"
        },
        {
         "0": "0.4666666666666667",
         "1": "4.16",
         "2": "3.543333333333333",
         "3": "1.3673000000000224"
        },
        {
         "0": "0.5244444444444445",
         "1": "4.16",
         "2": "3.543333333333333",
         "3": "1.3673000000000224"
        },
        {
         "0": "0.5822222222222222",
         "1": "4.16",
         "2": "3.543333333333333",
         "3": "1.3673000000000224"
        },
        {
         "0": "0.64",
         "1": "4.16",
         "2": "3.543333333333333",
         "3": "1.3673000000000224"
        },
        {
         "0": "0.12",
         "1": "4.16",
         "2": "3.543333333333333",
         "3": "1.3673000000000224"
        },
        {
         "0": "0.17777777777777778",
         "1": "4.16",
         "2": "3.543333333333333",
         "3": "1.3673000000000224"
        },
        {
         "0": "0.23555555555555557",
         "1": "4.16",
         "2": "3.543333333333333",
         "3": "1.3673000000000224"
        },
        {
         "0": "0.29333333333333333",
         "1": "4.16",
         "2": "3.543333333333333",
         "3": "1.3673000000000224"
        },
        {
         "0": "0.35111111111111115",
         "1": "4.16",
         "2": "3.543333333333333",
         "3": "1.3673000000000224"
        },
        {
         "0": "0.4088888888888889",
         "1": "4.16",
         "2": "3.543333333333333",
         "3": "1.3673000000000224"
        },
        {
         "0": "0.4666666666666667",
         "1": "4.16",
         "2": "3.543333333333333",
         "3": "1.3673000000000224"
        },
        {
         "0": "0.5244444444444445",
         "1": "4.16",
         "2": "3.543333333333333",
         "3": "1.3673000000000224"
        },
        {
         "0": "0.5822222222222222",
         "1": "4.16",
         "2": "3.543333333333333",
         "3": "1.3673000000000224"
        },
        {
         "0": "0.64",
         "1": "4.16",
         "2": "3.543333333333333",
         "3": "1.3673000000000224"
        },
        {
         "0": "0.12",
         "1": "4.16",
         "2": "3.543333333333333",
         "3": "1.3673000000000224"
        },
        {
         "0": "0.17777777777777778",
         "1": "4.16",
         "2": "3.543333333333333",
         "3": "1.3673000000000224"
        },
        {
         "0": "0.23555555555555557",
         "1": "4.16",
         "2": "3.543333333333333",
         "3": "1.3673000000000224"
        },
        {
         "0": "0.29333333333333333",
         "1": "4.16",
         "2": "3.543333333333333",
         "3": "1.3673000000000224"
        },
        {
         "0": "0.35111111111111115",
         "1": "4.16",
         "2": "3.543333333333333",
         "3": "1.3673000000000224"
        },
        {
         "0": "0.4088888888888889",
         "1": "4.16",
         "2": "3.543333333333333",
         "3": "1.3673000000000224"
        },
        {
         "0": "0.4666666666666667",
         "1": "4.16",
         "2": "3.543333333333333",
         "3": "1.3673000000000224"
        },
        {
         "0": "0.5244444444444445",
         "1": "4.16",
         "2": "3.543333333333333",
         "3": "1.3673000000000224"
        },
        {
         "0": "0.5822222222222222",
         "1": "4.16",
         "2": "3.543333333333333",
         "3": "1.3673000000000224"
        },
        {
         "0": "0.64",
         "1": "4.16",
         "2": "3.543333333333333",
         "3": "1.3673000000000224"
        },
        {
         "0": "0.12",
         "1": "4.819999999999999",
         "2": "6.46",
         "3": "3.096799999999993"
        },
        {
         "0": "0.17777777777777778",
         "1": "4.819999999999999",
         "2": "6.46",
         "3": "3.096799999999993"
        },
        {
         "0": "0.23555555555555557",
         "1": "4.819999999999999",
         "2": "6.46",
         "3": "3.096799999999993"
        },
        {
         "0": "0.29333333333333333",
         "1": "4.819999999999999",
         "2": "6.46",
         "3": "3.096799999999993"
        },
        {
         "0": "0.35111111111111115",
         "1": "4.819999999999999",
         "2": "6.46",
         "3": "3.096799999999993"
        },
        {
         "0": "0.4088888888888889",
         "1": "4.819999999999999",
         "2": "6.46",
         "3": "3.096799999999993"
        },
        {
         "0": "0.4666666666666667",
         "1": "4.819999999999999",
         "2": "6.46",
         "3": "3.096799999999993"
        },
        {
         "0": "0.5244444444444445",
         "1": "4.819999999999999",
         "2": "6.46",
         "3": "3.096799999999993"
        },
        {
         "0": "0.5822222222222222",
         "1": "4.819999999999999",
         "2": "6.46",
         "3": "3.096799999999993"
        },
        {
         "0": "0.64",
         "1": "4.819999999999999",
         "2": "6.46",
         "3": "3.096799999999993"
        },
        {
         "0": "0.12",
         "1": "4.819999999999999",
         "2": "6.46",
         "3": "3.096799999999993"
        },
        {
         "0": "0.17777777777777778",
         "1": "4.819999999999999",
         "2": "6.46",
         "3": "3.096799999999993"
        },
        {
         "0": "0.23555555555555557",
         "1": "4.819999999999999",
         "2": "6.46",
         "3": "3.096799999999993"
        },
        {
         "0": "0.29333333333333333",
         "1": "4.819999999999999",
         "2": "6.46",
         "3": "3.096799999999993"
        },
        {
         "0": "0.35111111111111115",
         "1": "4.819999999999999",
         "2": "6.46",
         "3": "3.096799999999993"
        },
        {
         "0": "0.4088888888888889",
         "1": "4.819999999999999",
         "2": "6.46",
         "3": "3.096799999999993"
        },
        {
         "0": "0.4666666666666667",
         "1": "4.819999999999999",
         "2": "6.46",
         "3": "3.096799999999993"
        },
        {
         "0": "0.5244444444444445",
         "1": "4.819999999999999",
         "2": "6.46",
         "3": "3.096799999999993"
        },
        {
         "0": "0.5822222222222222",
         "1": "4.819999999999999",
         "2": "6.46",
         "3": "3.096799999999993"
        },
        {
         "0": "0.64",
         "1": "4.819999999999999",
         "2": "6.46",
         "3": "3.096799999999993"
        },
        {
         "0": "0.12",
         "1": "4.819999999999999",
         "2": "6.46",
         "3": "3.002899999999994"
        },
        {
         "0": "0.17777777777777778",
         "1": "4.819999999999999",
         "2": "6.46",
         "3": "3.002899999999994"
        },
        {
         "0": "0.23555555555555557",
         "1": "4.819999999999999",
         "2": "6.46",
         "3": "3.002899999999994"
        },
        {
         "0": "0.29333333333333333",
         "1": "4.819999999999999",
         "2": "6.46",
         "3": "3.002899999999994"
        },
        {
         "0": "0.35111111111111115",
         "1": "4.819999999999999",
         "2": "6.46",
         "3": "3.002899999999994"
        },
        {
         "0": "0.4088888888888889",
         "1": "4.819999999999999",
         "2": "6.46",
         "3": "3.002899999999994"
        },
        {
         "0": "0.4666666666666667",
         "1": "4.819999999999999",
         "2": "6.46",
         "3": "3.002899999999994"
        },
        {
         "0": "0.5244444444444445",
         "1": "4.819999999999999",
         "2": "6.46",
         "3": "3.002899999999994"
        },
        {
         "0": "0.5822222222222222",
         "1": "4.819999999999999",
         "2": "6.46",
         "3": "3.002899999999994"
        },
        {
         "0": "0.64",
         "1": "4.819999999999999",
         "2": "6.46",
         "3": "3.002899999999994"
        },
        {
         "0": "0.12",
         "1": "4.819999999999999",
         "2": "6.46",
         "3": "2.4233000000000278"
        },
        {
         "0": "0.17777777777777778",
         "1": "4.819999999999999",
         "2": "6.46",
         "3": "2.4233000000000278"
        },
        {
         "0": "0.23555555555555557",
         "1": "4.819999999999999",
         "2": "6.46",
         "3": "2.4233000000000278"
        },
        {
         "0": "0.29333333333333333",
         "1": "4.819999999999999",
         "2": "6.46",
         "3": "2.4233000000000278"
        },
        {
         "0": "0.35111111111111115",
         "1": "4.819999999999999",
         "2": "6.46",
         "3": "2.4233000000000278"
        },
        {
         "0": "0.4088888888888889",
         "1": "4.819999999999999",
         "2": "6.46",
         "3": "2.4233000000000278"
        },
        {
         "0": "0.4666666666666667",
         "1": "4.819999999999999",
         "2": "6.46",
         "3": "2.4233000000000278"
        },
        {
         "0": "0.5244444444444445",
         "1": "4.819999999999999",
         "2": "6.46",
         "3": "2.4233000000000278"
        },
        {
         "0": "0.5822222222222222",
         "1": "4.819999999999999",
         "2": "6.46",
         "3": "2.4233000000000278"
        },
        {
         "0": "0.64",
         "1": "4.819999999999999",
         "2": "6.46",
         "3": "2.4233000000000278"
        },
        {
         "0": "0.12",
         "1": "4.819999999999999",
         "2": "6.46",
         "3": "2.4398000000000284"
        },
        {
         "0": "0.17777777777777778",
         "1": "4.819999999999999",
         "2": "6.46",
         "3": "2.4398000000000284"
        },
        {
         "0": "0.23555555555555557",
         "1": "4.819999999999999",
         "2": "6.46",
         "3": "2.4398000000000284"
        },
        {
         "0": "0.29333333333333333",
         "1": "4.819999999999999",
         "2": "6.46",
         "3": "2.4398000000000284"
        },
        {
         "0": "0.35111111111111115",
         "1": "4.819999999999999",
         "2": "6.46",
         "3": "2.4398000000000284"
        },
        {
         "0": "0.4088888888888889",
         "1": "4.819999999999999",
         "2": "6.46",
         "3": "2.4398000000000284"
        },
        {
         "0": "0.4666666666666667",
         "1": "4.819999999999999",
         "2": "6.46",
         "3": "2.4398000000000284"
        },
        {
         "0": "0.5244444444444445",
         "1": "4.819999999999999",
         "2": "6.46",
         "3": "2.4398000000000284"
        },
        {
         "0": "0.5822222222222222",
         "1": "4.819999999999999",
         "2": "6.46",
         "3": "2.4398000000000284"
        },
        {
         "0": "0.64",
         "1": "4.819999999999999",
         "2": "6.46",
         "3": "2.4398000000000284"
        },
        {
         "0": "0.12",
         "1": "4.819999999999999",
         "2": "6.46",
         "3": "2.4398000000000284"
        },
        {
         "0": "0.17777777777777778",
         "1": "4.819999999999999",
         "2": "6.46",
         "3": "2.4398000000000284"
        },
        {
         "0": "0.23555555555555557",
         "1": "4.819999999999999",
         "2": "6.46",
         "3": "2.4398000000000284"
        },
        {
         "0": "0.29333333333333333",
         "1": "4.819999999999999",
         "2": "6.46",
         "3": "2.4398000000000284"
        },
        {
         "0": "0.35111111111111115",
         "1": "4.819999999999999",
         "2": "6.46",
         "3": "2.4398000000000284"
        },
        {
         "0": "0.4088888888888889",
         "1": "4.819999999999999",
         "2": "6.46",
         "3": "2.4398000000000284"
        },
        {
         "0": "0.4666666666666667",
         "1": "4.819999999999999",
         "2": "6.46",
         "3": "2.4398000000000284"
        },
        {
         "0": "0.5244444444444445",
         "1": "4.819999999999999",
         "2": "6.46",
         "3": "2.4398000000000284"
        },
        {
         "0": "0.5822222222222222",
         "1": "4.819999999999999",
         "2": "6.46",
         "3": "2.4398000000000284"
        },
        {
         "0": "0.64",
         "1": "4.819999999999999",
         "2": "6.46",
         "3": "2.4398000000000284"
        },
        {
         "0": "0.12",
         "1": "4.819999999999999",
         "2": "6.46",
         "3": "1.2100000000000222"
        },
        {
         "0": "0.17777777777777778",
         "1": "4.819999999999999",
         "2": "6.46",
         "3": "1.2100000000000222"
        },
        {
         "0": "0.23555555555555557",
         "1": "4.819999999999999",
         "2": "6.46",
         "3": "1.2100000000000222"
        },
        {
         "0": "0.29333333333333333",
         "1": "4.819999999999999",
         "2": "6.46",
         "3": "1.2100000000000222"
        },
        {
         "0": "0.35111111111111115",
         "1": "4.819999999999999",
         "2": "6.46",
         "3": "1.2100000000000222"
        },
        {
         "0": "0.4088888888888889",
         "1": "4.819999999999999",
         "2": "6.46",
         "3": "1.2100000000000222"
        },
        {
         "0": "0.4666666666666667",
         "1": "4.819999999999999",
         "2": "6.46",
         "3": "1.2100000000000222"
        },
        {
         "0": "0.5244444444444445",
         "1": "4.819999999999999",
         "2": "6.46",
         "3": "1.2100000000000222"
        },
        {
         "0": "0.5822222222222222",
         "1": "4.819999999999999",
         "2": "6.46",
         "3": "1.2100000000000222"
        },
        {
         "0": "0.64",
         "1": "4.819999999999999",
         "2": "6.46",
         "3": "1.2100000000000222"
        },
        {
         "0": "0.12",
         "1": "4.819999999999999",
         "2": "6.46",
         "3": "1.2100000000000222"
        },
        {
         "0": "0.17777777777777778",
         "1": "4.819999999999999",
         "2": "6.46",
         "3": "1.2100000000000222"
        },
        {
         "0": "0.23555555555555557",
         "1": "4.819999999999999",
         "2": "6.46",
         "3": "1.2100000000000222"
        },
        {
         "0": "0.29333333333333333",
         "1": "4.819999999999999",
         "2": "6.46",
         "3": "1.2100000000000222"
        },
        {
         "0": "0.35111111111111115",
         "1": "4.819999999999999",
         "2": "6.46",
         "3": "1.2100000000000222"
        },
        {
         "0": "0.12",
         "1": "2.84",
         "2": "-2.29",
         "3": "1.2114999999999763"
        },
        {
         "0": "0.17777777777777778",
         "1": "2.84",
         "2": "-2.29",
         "3": "1.2114999999999763"
        },
        {
         "0": "0.23555555555555557",
         "1": "2.84",
         "2": "-2.29",
         "3": "1.2114999999999763"
        },
        {
         "0": "0.29333333333333333",
         "1": "2.84",
         "2": "-2.29",
         "3": "1.2114999999999763"
        },
        {
         "0": "0.35111111111111115",
         "1": "2.84",
         "2": "-2.29",
         "3": "1.2114999999999763"
        },
        {
         "0": "0.4088888888888889",
         "1": "2.84",
         "2": "-2.29",
         "3": "1.2114999999999763"
        },
        {
         "0": "0.4666666666666667",
         "1": "2.84",
         "2": "-2.29",
         "3": "1.2114999999999763"
        },
        {
         "0": "0.5244444444444445",
         "1": "2.84",
         "2": "-2.29",
         "3": "1.2114999999999763"
        },
        {
         "0": "0.5822222222222222",
         "1": "2.84",
         "2": "-2.29",
         "3": "1.2114999999999763"
        },
        {
         "0": "0.64",
         "1": "2.84",
         "2": "-2.29",
         "3": "1.2114999999999763"
        },
        {
         "0": "0.12",
         "1": "2.84",
         "2": "-2.29",
         "3": "1.2114999999999763"
        },
        {
         "0": "0.17777777777777778",
         "1": "2.84",
         "2": "-2.29",
         "3": "1.2114999999999763"
        },
        {
         "0": "0.23555555555555557",
         "1": "2.84",
         "2": "-2.29",
         "3": "1.2114999999999763"
        },
        {
         "0": "0.29333333333333333",
         "1": "2.84",
         "2": "-2.29",
         "3": "1.2114999999999763"
        },
        {
         "0": "0.35111111111111115",
         "1": "2.84",
         "2": "-2.29",
         "3": "1.2114999999999763"
        },
        {
         "0": "0.4088888888888889",
         "1": "2.84",
         "2": "-2.29",
         "3": "1.2114999999999763"
        },
        {
         "0": "0.4666666666666667",
         "1": "2.84",
         "2": "-2.29",
         "3": "1.2114999999999763"
        },
        {
         "0": "0.5244444444444445",
         "1": "2.84",
         "2": "-2.29",
         "3": "1.2114999999999763"
        },
        {
         "0": "0.5822222222222222",
         "1": "2.84",
         "2": "-2.29",
         "3": "1.2114999999999763"
        },
        {
         "0": "0.64",
         "1": "2.84",
         "2": "-2.29",
         "3": "1.2114999999999763"
        },
        {
         "0": "0.12",
         "1": "2.84",
         "2": "-2.29",
         "3": "1.0999999999999754"
        },
        {
         "0": "0.17777777777777778",
         "1": "2.84",
         "2": "-2.29",
         "3": "1.0999999999999754"
        },
        {
         "0": "0.23555555555555557",
         "1": "2.84",
         "2": "-2.29",
         "3": "1.0999999999999754"
        },
        {
         "0": "0.29333333333333333",
         "1": "2.84",
         "2": "-2.29",
         "3": "1.0999999999999754"
        },
        {
         "0": "0.35111111111111115",
         "1": "2.84",
         "2": "-2.29",
         "3": "1.0999999999999754"
        },
        {
         "0": "0.4088888888888889",
         "1": "2.84",
         "2": "-2.29",
         "3": "1.0999999999999754"
        },
        {
         "0": "0.4666666666666667",
         "1": "2.84",
         "2": "-2.29",
         "3": "1.0999999999999754"
        },
        {
         "0": "0.5244444444444445",
         "1": "2.84",
         "2": "-2.29",
         "3": "1.0999999999999754"
        },
        {
         "0": "0.5822222222222222",
         "1": "2.84",
         "2": "-2.29",
         "3": "1.0999999999999754"
        },
        {
         "0": "0.64",
         "1": "2.84",
         "2": "-2.29",
         "3": "1.0999999999999754"
        },
        {
         "0": "0.12",
         "1": "2.84",
         "2": "-2.29",
         "3": "1.0999999999999754"
        },
        {
         "0": "0.17777777777777778",
         "1": "2.84",
         "2": "-2.29",
         "3": "1.0999999999999754"
        },
        {
         "0": "0.23555555555555557",
         "1": "2.84",
         "2": "-2.29",
         "3": "1.0999999999999754"
        },
        {
         "0": "0.29333333333333333",
         "1": "2.84",
         "2": "-2.29",
         "3": "1.0999999999999754"
        },
        {
         "0": "0.35111111111111115",
         "1": "2.84",
         "2": "-2.29",
         "3": "1.0999999999999754"
        },
        {
         "0": "0.4088888888888889",
         "1": "2.84",
         "2": "-2.29",
         "3": "1.0999999999999754"
        },
        {
         "0": "0.4666666666666667",
         "1": "2.84",
         "2": "-2.29",
         "3": "1.0999999999999754"
        },
        {
         "0": "0.5244444444444445",
         "1": "2.84",
         "2": "-2.29",
         "3": "1.0999999999999754"
        },
        {
         "0": "0.5822222222222222",
         "1": "2.84",
         "2": "-2.29",
         "3": "1.0999999999999754"
        },
        {
         "0": "0.64",
         "1": "2.84",
         "2": "-2.29",
         "3": "1.0999999999999754"
        },
        {
         "0": "0.12",
         "1": "2.84",
         "2": "-2.29",
         "3": "1.1307999999999765"
        },
        {
         "0": "0.17777777777777778",
         "1": "2.84",
         "2": "-2.29",
         "3": "1.1307999999999765"
        },
        {
         "0": "0.23555555555555557",
         "1": "2.84",
         "2": "-2.29",
         "3": "1.1307999999999765"
        },
        {
         "0": "0.29333333333333333",
         "1": "2.84",
         "2": "-2.29",
         "3": "1.1307999999999765"
        },
        {
         "0": "0.35111111111111115",
         "1": "2.84",
         "2": "-2.29",
         "3": "1.1307999999999765"
        },
        {
         "0": "0.4088888888888889",
         "1": "2.84",
         "2": "-2.29",
         "3": "1.1307999999999765"
        },
        {
         "0": "0.4666666666666667",
         "1": "2.84",
         "2": "-2.29",
         "3": "1.1307999999999765"
        },
        {
         "0": "0.5244444444444445",
         "1": "2.84",
         "2": "-2.29",
         "3": "1.1307999999999765"
        },
        {
         "0": "0.5822222222222222",
         "1": "2.84",
         "2": "-2.29",
         "3": "1.1307999999999765"
        },
        {
         "0": "0.64",
         "1": "2.84",
         "2": "-2.29",
         "3": "1.1307999999999765"
        },
        {
         "0": "0.12",
         "1": "2.84",
         "2": "-2.29",
         "3": "1.1307999999999765"
        },
        {
         "0": "0.17777777777777778",
         "1": "2.84",
         "2": "-2.29",
         "3": "1.1307999999999765"
        },
        {
         "0": "0.23555555555555557",
         "1": "2.84",
         "2": "-2.29",
         "3": "1.1307999999999765"
        },
        {
         "0": "0.29333333333333333",
         "1": "2.84",
         "2": "-2.29",
         "3": "1.1307999999999765"
        },
        {
         "0": "0.35111111111111115",
         "1": "2.84",
         "2": "-2.29",
         "3": "1.1307999999999765"
        },
        {
         "0": "0.4088888888888889",
         "1": "2.84",
         "2": "-2.29",
         "3": "1.1307999999999765"
        },
        {
         "0": "0.4666666666666667",
         "1": "2.84",
         "2": "-2.29",
         "3": "1.1307999999999765"
        },
        {
         "0": "0.5244444444444445",
         "1": "2.84",
         "2": "-2.29",
         "3": "1.1307999999999765"
        },
        {
         "0": "0.5822222222222222",
         "1": "2.84",
         "2": "-2.29",
         "3": "1.1307999999999765"
        },
        {
         "0": "0.64",
         "1": "2.84",
         "2": "-2.29",
         "3": "1.1307999999999765"
        },
        {
         "0": "0.12",
         "1": "2.84",
         "2": "-2.29",
         "3": "1.1164999999999763"
        },
        {
         "0": "0.17777777777777778",
         "1": "2.84",
         "2": "-2.29",
         "3": "1.1164999999999763"
        },
        {
         "0": "0.23555555555555557",
         "1": "2.84",
         "2": "-2.29",
         "3": "1.1164999999999763"
        },
        {
         "0": "0.29333333333333333",
         "1": "2.84",
         "2": "-2.29",
         "3": "1.1164999999999763"
        },
        {
         "0": "0.35111111111111115",
         "1": "2.84",
         "2": "-2.29",
         "3": "1.1164999999999763"
        },
        {
         "0": "0.4088888888888889",
         "1": "2.84",
         "2": "-2.29",
         "3": "1.1164999999999763"
        },
        {
         "0": "0.4666666666666667",
         "1": "2.84",
         "2": "-2.29",
         "3": "1.1164999999999763"
        },
        {
         "0": "0.5244444444444445",
         "1": "2.84",
         "2": "-2.29",
         "3": "1.1164999999999763"
        },
        {
         "0": "0.5822222222222222",
         "1": "2.84",
         "2": "-2.29",
         "3": "1.1164999999999763"
        },
        {
         "0": "0.64",
         "1": "2.84",
         "2": "-2.29",
         "3": "1.1164999999999763"
        },
        {
         "0": "0.12",
         "1": "2.84",
         "2": "-2.29",
         "3": "1.1164999999999763"
        },
        {
         "0": "0.17777777777777778",
         "1": "2.84",
         "2": "-2.29",
         "3": "1.1164999999999763"
        },
        {
         "0": "0.23555555555555557",
         "1": "2.84",
         "2": "-2.29",
         "3": "1.1164999999999763"
        },
        {
         "0": "0.29333333333333333",
         "1": "2.84",
         "2": "-2.29",
         "3": "1.1164999999999763"
        },
        {
         "0": "0.35111111111111115",
         "1": "2.84",
         "2": "-2.29",
         "3": "1.1164999999999763"
        },
        {
         "0": "0.4088888888888889",
         "1": "2.84",
         "2": "-2.29",
         "3": "1.1164999999999763"
        },
        {
         "0": "0.4666666666666667",
         "1": "2.84",
         "2": "-2.29",
         "3": "1.1164999999999763"
        },
        {
         "0": "0.5244444444444445",
         "1": "2.84",
         "2": "-2.29",
         "3": "1.1164999999999763"
        },
        {
         "0": "0.5822222222222222",
         "1": "2.84",
         "2": "-2.29",
         "3": "1.1164999999999763"
        },
        {
         "0": "0.64",
         "1": "2.84",
         "2": "-2.29",
         "3": "1.1164999999999763"
        },
        {
         "0": "0.12",
         "1": "2.84",
         "2": "-2.29",
         "3": "1.1164999999999763"
        },
        {
         "0": "0.17777777777777778",
         "1": "2.84",
         "2": "-2.29",
         "3": "1.1164999999999763"
        },
        {
         "0": "0.23555555555555557",
         "1": "2.84",
         "2": "-2.29",
         "3": "1.1164999999999763"
        },
        {
         "0": "0.29333333333333333",
         "1": "2.84",
         "2": "-2.29",
         "3": "1.1164999999999763"
        },
        {
         "0": "0.35111111111111115",
         "1": "2.84",
         "2": "-2.29",
         "3": "1.1164999999999763"
        },
        {
         "0": "0.4088888888888889",
         "1": "2.84",
         "2": "-2.29",
         "3": "1.1164999999999763"
        },
        {
         "0": "0.4666666666666667",
         "1": "2.84",
         "2": "-2.29",
         "3": "1.1164999999999763"
        },
        {
         "0": "0.5244444444444445",
         "1": "2.84",
         "2": "-2.29",
         "3": "1.1164999999999763"
        },
        {
         "0": "0.5822222222222222",
         "1": "2.84",
         "2": "-2.29",
         "3": "1.1164999999999763"
        },
        {
         "0": "0.64",
         "1": "2.84",
         "2": "-2.29",
         "3": "1.1164999999999763"
        },
        {
         "0": "0.12",
         "1": "2.84",
         "2": "-2.29",
         "3": "1.1164999999999763"
        },
        {
         "0": "0.17777777777777778",
         "1": "2.84",
         "2": "-2.29",
         "3": "1.1164999999999763"
        },
        {
         "0": "0.23555555555555557",
         "1": "2.84",
         "2": "-2.29",
         "3": "1.1164999999999763"
        },
        {
         "0": "0.29333333333333333",
         "1": "2.84",
         "2": "-2.29",
         "3": "1.1164999999999763"
        },
        {
         "0": "0.35111111111111115",
         "1": "2.84",
         "2": "-2.29",
         "3": "1.1164999999999763"
        },
        {
         "0": "0.4088888888888889",
         "1": "2.84",
         "2": "-2.29",
         "3": "1.1164999999999763"
        },
        {
         "0": "0.4666666666666667",
         "1": "2.84",
         "2": "-2.29",
         "3": "1.1164999999999763"
        },
        {
         "0": "0.5244444444444445",
         "1": "2.84",
         "2": "-2.29",
         "3": "1.1164999999999763"
        },
        {
         "0": "0.5822222222222222",
         "1": "2.84",
         "2": "-2.29",
         "3": "1.1164999999999763"
        },
        {
         "0": "0.64",
         "1": "2.84",
         "2": "-2.29",
         "3": "1.1164999999999763"
        },
        {
         "0": "0.12",
         "1": "3.5",
         "2": "0.6266666666666665",
         "3": "3.3299999999999894"
        },
        {
         "0": "0.17777777777777778",
         "1": "3.5",
         "2": "0.6266666666666665",
         "3": "3.3299999999999894"
        },
        {
         "0": "0.23555555555555557",
         "1": "3.5",
         "2": "0.6266666666666665",
         "3": "3.3299999999999894"
        },
        {
         "0": "0.29333333333333333",
         "1": "3.5",
         "2": "0.6266666666666665",
         "3": "3.3299999999999894"
        },
        {
         "0": "0.35111111111111115",
         "1": "3.5",
         "2": "0.6266666666666665",
         "3": "3.3299999999999894"
        },
        {
         "0": "0.4088888888888889",
         "1": "3.5",
         "2": "0.6266666666666665",
         "3": "3.3299999999999894"
        },
        {
         "0": "0.4666666666666667",
         "1": "3.5",
         "2": "0.6266666666666665",
         "3": "3.3299999999999894"
        },
        {
         "0": "0.5244444444444445",
         "1": "3.5",
         "2": "0.6266666666666665",
         "3": "3.3299999999999894"
        },
        {
         "0": "0.5822222222222222",
         "1": "3.5",
         "2": "0.6266666666666665",
         "3": "3.3299999999999894"
        },
        {
         "0": "0.64",
         "1": "3.5",
         "2": "0.6266666666666665",
         "3": "3.3299999999999894"
        },
        {
         "0": "0.12",
         "1": "3.5",
         "2": "0.6266666666666665",
         "3": "3.3299999999999894"
        },
        {
         "0": "0.17777777777777778",
         "1": "3.5",
         "2": "0.6266666666666665",
         "3": "3.3299999999999894"
        },
        {
         "0": "0.23555555555555557",
         "1": "3.5",
         "2": "0.6266666666666665",
         "3": "3.3299999999999894"
        },
        {
         "0": "0.29333333333333333",
         "1": "3.5",
         "2": "0.6266666666666665",
         "3": "3.3299999999999894"
        },
        {
         "0": "0.35111111111111115",
         "1": "3.5",
         "2": "0.6266666666666665",
         "3": "3.3299999999999894"
        },
        {
         "0": "0.4088888888888889",
         "1": "3.5",
         "2": "0.6266666666666665",
         "3": "3.3299999999999894"
        },
        {
         "0": "0.4666666666666667",
         "1": "3.5",
         "2": "0.6266666666666665",
         "3": "3.3299999999999894"
        },
        {
         "0": "0.5244444444444445",
         "1": "3.5",
         "2": "0.6266666666666665",
         "3": "3.3299999999999894"
        },
        {
         "0": "0.5822222222222222",
         "1": "3.5",
         "2": "0.6266666666666665",
         "3": "3.3299999999999894"
        },
        {
         "0": "0.64",
         "1": "3.5",
         "2": "0.6266666666666665",
         "3": "3.3299999999999894"
        },
        {
         "0": "0.12",
         "1": "3.5",
         "2": "0.6266666666666665",
         "3": "3.26469999999999"
        },
        {
         "0": "0.17777777777777778",
         "1": "3.5",
         "2": "0.6266666666666665",
         "3": "3.26469999999999"
        },
        {
         "0": "0.23555555555555557",
         "1": "3.5",
         "2": "0.6266666666666665",
         "3": "3.26469999999999"
        },
        {
         "0": "0.29333333333333333",
         "1": "3.5",
         "2": "0.6266666666666665",
         "3": "3.26469999999999"
        },
        {
         "0": "0.35111111111111115",
         "1": "3.5",
         "2": "0.6266666666666665",
         "3": "3.26469999999999"
        }
       ],
       "schema": [
        {
         "key": "0",
         "name": "thermalConductivity",
         "type": "double"
        },
        {
         "key": "1",
         "name": "elasticity",
         "type": "double"
        },
        {
         "key": "2",
         "name": "ambientTemperature",
         "type": "double"
        },
        {
         "key": "3",
         "name": "comfortscore",
         "type": "double"
        }
       ],
       "truncated": false
      },
      "wranglerEntryContext": {
       "candidateVariableNames": [
        "df"
       ],
       "dataframeType": "pyspark"
      }
     },
     "type": "Synapse.DataFrame"
    }
   },
   "version": "0.1"
  }
 },
 "nbformat": 4,
 "nbformat_minor": 5
}
